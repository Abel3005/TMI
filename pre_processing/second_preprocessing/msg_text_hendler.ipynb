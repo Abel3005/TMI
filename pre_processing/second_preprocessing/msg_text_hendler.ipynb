{
 "cells": [
  {
   "cell_type": "code",
   "execution_count": 21,
   "metadata": {},
   "outputs": [],
   "source": [
    "import json, boto3, redis\n",
    "import pandas as pd"
   ]
  },
  {
   "cell_type": "code",
   "execution_count": 22,
   "metadata": {},
   "outputs": [],
   "source": [
    "with open(\"../.KEYS/SECOND_PREPROCESSING_KEY.json\", \"r\") as f:\n",
    "    key = json.load(f)\n",
    "\n",
    "with open(\"../.KEYS/DATA_SRC_INFO.json\", \"r\") as f:\n",
    "    path = json.load(f)"
   ]
  },
  {
   "cell_type": "code",
   "execution_count": 23,
   "metadata": {},
   "outputs": [],
   "source": [
    "aws_key_id = key['aws_access_key_id']\n",
    "aws_secret_key = key['aws_secret_key']\n",
    "aws_region = key['region']\n",
    "\n",
    "sqs_url = path['target_id_sqs_queque_arn']"
   ]
  },
  {
   "cell_type": "code",
   "execution_count": 27,
   "metadata": {},
   "outputs": [],
   "source": [
    "# AWS 자격 증명 및 리전 설정\n",
    "sqs_client = boto3.client(\n",
    "    'sqs',\n",
    "    aws_access_key_id=aws_key_id,       # 액세스 키\n",
    "    aws_secret_access_key=aws_secret_key,     # 시크릿 키\n",
    "    region_name='ap-northeast-2'                 # 리전\n",
    ")"
   ]
  },
  {
   "cell_type": "code",
   "execution_count": null,
   "metadata": {},
   "outputs": [],
   "source": [
    "# SQS에서 메시지 수신\n",
    "response = sqs_client.receive_message(\n",
    "    QueueUrl=sqs_url,\n",
    "    MaxNumberOfMessages=10,\n",
    "    WaitTimeSeconds=20\n",
    ")\n",
    "\n",
    "print(response)"
   ]
  },
  {
   "cell_type": "code",
   "execution_count": 30,
   "metadata": {},
   "outputs": [],
   "source": [
    "message = response['Messages'][0]"
   ]
  },
  {
   "cell_type": "code",
   "execution_count": null,
   "metadata": {},
   "outputs": [],
   "source": [
    "message"
   ]
  },
  {
   "cell_type": "code",
   "execution_count": 48,
   "metadata": {},
   "outputs": [],
   "source": [
    "message_body = json.loads(message['Body'])"
   ]
  },
  {
   "cell_type": "code",
   "execution_count": null,
   "metadata": {},
   "outputs": [],
   "source": [
    "message_body"
   ]
  },
  {
   "cell_type": "code",
   "execution_count": null,
   "metadata": {},
   "outputs": [],
   "source": [
    "records = message_body.get('records')"
   ]
  },
  {
   "cell_type": "code",
   "execution_count": null,
   "metadata": {},
   "outputs": [],
   "source": [
    "records"
   ]
  },
  {
   "cell_type": "code",
   "execution_count": 43,
   "metadata": {},
   "outputs": [],
   "source": [
    "if records:\n",
    "    ids = ','.join(map(str, [record['id'] for record in records]))"
   ]
  },
  {
   "cell_type": "code",
   "execution_count": null,
   "metadata": {},
   "outputs": [],
   "source": [
    "ids"
   ]
  },
  {
   "cell_type": "code",
   "execution_count": null,
   "metadata": {},
   "outputs": [],
   "source": []
  }
 ],
 "metadata": {
  "kernelspec": {
   "display_name": ".venv",
   "language": "python",
   "name": "python3"
  },
  "language_info": {
   "codemirror_mode": {
    "name": "ipython",
    "version": 3
   },
   "file_extension": ".py",
   "mimetype": "text/x-python",
   "name": "python",
   "nbconvert_exporter": "python",
   "pygments_lexer": "ipython3",
   "version": "3.11.0rc1"
  }
 },
 "nbformat": 4,
 "nbformat_minor": 2
}
