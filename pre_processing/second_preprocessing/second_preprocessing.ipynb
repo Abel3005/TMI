{
 "cells": [
  {
   "cell_type": "code",
   "execution_count": 1,
   "metadata": {},
   "outputs": [],
   "source": [
    "import json, boto3, logging\n",
    "from botocore.exceptions import ClientError"
   ]
  },
  {
   "cell_type": "code",
   "execution_count": 3,
   "metadata": {},
   "outputs": [],
   "source": [
    "with open(\"../.KEYS/API_KEYS.json\", \"r\") as f:\n",
    "    key = json.load(f)\n",
    "\n",
    "# S3 버킷 정보 get\n",
    "with open(\"../.KEYS/DATA_SRC_INFO.json\", \"r\") as f:\n",
    "    bucket_info = json.load(f)\n",
    "\n",
    "with open(\"../.KEYS/GEMINI_API_KEY.json\", \"r\") as f:\n",
    "    gemini_api_key = json.load(f)"
   ]
  },
  {
   "cell_type": "code",
   "execution_count": 4,
   "metadata": {},
   "outputs": [],
   "source": [
    "dynamo_table_name = bucket_info['restore_table_name']\n",
    "dynamodb = boto3.resource(\n",
    "        'dynamodb',\n",
    "        aws_access_key_id=key['aws_access_key_id'],\n",
    "        aws_secret_access_key=key['aws_secret_key'],\n",
    "        region_name=key['region']\n",
    "    )\n",
    "table = dynamodb.Table(dynamo_table_name)\n",
    "\n",
    "scan_kwargs = {}\n",
    "data = []"
   ]
  },
  {
   "cell_type": "code",
   "execution_count": null,
   "metadata": {},
   "outputs": [],
   "source": [
    "# Pagination을 고려하여 모든 데이터를 가져오기\n",
    "while True:\n",
    "    response = table.scan(**scan_kwargs)\n",
    "    data.extend(response.get('Items', []))\n",
    "    scan_kwargs['ExclusiveStartKey'] = response.get('LastEvaluatedKey', None)\n",
    "    if not scan_kwargs['ExclusiveStartKey']:\n",
    "        break"
   ]
  }
 ],
 "metadata": {
  "kernelspec": {
   "display_name": ".venv",
   "language": "python",
   "name": "python3"
  },
  "language_info": {
   "codemirror_mode": {
    "name": "ipython",
    "version": 3
   },
   "file_extension": ".py",
   "mimetype": "text/x-python",
   "name": "python",
   "nbconvert_exporter": "python",
   "pygments_lexer": "ipython3",
   "version": "3.11.0rc1"
  }
 },
 "nbformat": 4,
 "nbformat_minor": 2
}
