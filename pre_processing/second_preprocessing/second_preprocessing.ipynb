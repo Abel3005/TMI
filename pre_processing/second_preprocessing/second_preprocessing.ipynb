{
 "cells": [
  {
   "cell_type": "code",
   "execution_count": 18,
   "metadata": {},
   "outputs": [],
   "source": [
    "import json, boto3, logging, time\n",
    "from botocore.exceptions import ClientError\n",
    "import google.generativeai as genai\n",
    "from farmhash import FarmHash32 as fhash"
   ]
  },
  {
   "cell_type": "code",
   "execution_count": 3,
   "metadata": {},
   "outputs": [],
   "source": [
    "with open(\"../.KEYS/API_KEYS.json\", \"r\") as f:\n",
    "    key = json.load(f)\n",
    "\n",
    "# S3 버킷 정보 get\n",
    "with open(\"../.KEYS/DATA_SRC_INFO.json\", \"r\") as f:\n",
    "    bucket_info = json.load(f)\n",
    "\n",
    "with open(\"../.KEYS/GEMINI_API_KEY.json\", \"r\") as f:\n",
    "    gemini_api_key = json.load(f)\n",
    "\n",
    "with open(\"../.DATA/PROMPT_INFO.json\") as f:\n",
    "    prompt_metadata = json.load(f)"
   ]
  },
  {
   "cell_type": "code",
   "execution_count": 4,
   "metadata": {},
   "outputs": [],
   "source": [
    "dynamo_table_name = bucket_info['restore_table_name']\n",
    "dynamodb = boto3.resource(\n",
    "        'dynamodb',\n",
    "        aws_access_key_id=key['aws_access_key_id'],\n",
    "        aws_secret_access_key=key['aws_secret_key'],\n",
    "        region_name=key['region']\n",
    "    )\n",
    "table = dynamodb.Table(dynamo_table_name)\n",
    "\n",
    "scan_kwargs = {}\n",
    "source_data = []"
   ]
  },
  {
   "cell_type": "code",
   "execution_count": 7,
   "metadata": {},
   "outputs": [],
   "source": [
    "import time\n",
    "import botocore.exceptions\n",
    "\n",
    "# 지수 백오프를 포함한 스캔 작업\n",
    "def scan_with_backoff(table, scan_kwargs):\n",
    "    retry_attempts = 0\n",
    "    max_retries = 10\n",
    "    backoff_factor = 0.5\n",
    "    source_data = []\n",
    "\n",
    "    while True:\n",
    "        try:\n",
    "            response = table.scan(**scan_kwargs)\n",
    "            source_data.extend(response.get('Items', []))\n",
    "            last_evaluated_key = response.get('LastEvaluatedKey', None)\n",
    "            if last_evaluated_key:\n",
    "                scan_kwargs['ExclusiveStartKey'] = last_evaluated_key\n",
    "            else:\n",
    "                break\n",
    "        except botocore.exceptions.ProvisionedThroughputExceededException:\n",
    "            if retry_attempts < max_retries:\n",
    "                retry_attempts += 1\n",
    "                time.sleep(backoff_factor * (2 ** retry_attempts))  # 지수 백오프\n",
    "            else:\n",
    "                raise\n",
    "        except Exception as e:\n",
    "            print(f\"An unexpected error occurred: {e}\")\n",
    "            break\n",
    "\n",
    "    return source_data\n"
   ]
  },
  {
   "cell_type": "code",
   "execution_count": 8,
   "metadata": {},
   "outputs": [],
   "source": [
    "source_data = scan_with_backoff(table, scan_kwargs)"
   ]
  },
  {
   "cell_type": "code",
   "execution_count": 10,
   "metadata": {},
   "outputs": [
    {
     "data": {
      "text/plain": [
       "1173"
      ]
     },
     "execution_count": 10,
     "metadata": {},
     "output_type": "execute_result"
    }
   ],
   "source": [
    "len(source_data)"
   ]
  },
  {
   "cell_type": "code",
   "execution_count": null,
   "metadata": {},
   "outputs": [],
   "source": [
    "# Pagination을 고려하여 모든 데이터를 가져오기\n",
    "while True:\n",
    "    response = table.scan(**scan_kwargs)\n",
    "    source_data.extend(response.get('Items', []))\n",
    "    scan_kwargs['ExclusiveStartKey'] = response.get('LastEvaluatedKey', None)\n",
    "    if not scan_kwargs['ExclusiveStartKey']:\n",
    "        break"
   ]
  },
  {
   "cell_type": "code",
   "execution_count": 11,
   "metadata": {},
   "outputs": [],
   "source": [
    "wanted_data = [obj for obj in source_data if obj.get('site_symbol', '').upper() == \"WAN\"]\n",
    "jobkorea_data = [obj for obj in source_data if obj.get('site_symbol', '').upper() == \"JK\"]\n",
    "rocketpunch_data = [obj for obj in source_data if obj.get('site_symbol', '').upper() == \"RP\"]\n",
    "programmers_data = [obj for obj in source_data if obj.get('site_symbol', '').upper() == \"PRO\"]"
   ]
  },
  {
   "cell_type": "code",
   "execution_count": 12,
   "metadata": {},
   "outputs": [
    {
     "name": "stdout",
     "output_type": "stream",
     "text": [
      "63\n",
      "83\n",
      "229\n",
      "798\n"
     ]
    }
   ],
   "source": [
    "print(len(wanted_data))\n",
    "print(len(jobkorea_data))\n",
    "print(len(rocketpunch_data))\n",
    "print(len(programmers_data))"
   ]
  },
  {
   "cell_type": "code",
   "execution_count": 13,
   "metadata": {},
   "outputs": [],
   "source": [
    "genai.configure(api_key=gemini_api_key['GEMINI_API'])\n",
    "\n",
    "# Create the model\n",
    "generation_config = {\n",
    "  \"temperature\": 0.7,\n",
    "  \"top_p\": 0.95,\n",
    "  \"top_k\": 64,\n",
    "  \"max_output_tokens\": 8192,\n",
    "  \"response_mime_type\": \"text/plain\",\n",
    "}\n",
    "\n",
    "model = genai.GenerativeModel(\n",
    "  model_name=\"gemini-1.5-flash\",\n",
    "  generation_config=generation_config,\n",
    "  # safety_settings = Adjust safety settings\n",
    "  # See https://ai.google.dev/gemini-api/docs/safety-settings\n",
    ")\n",
    "\n",
    "chat_session = model.start_chat(\n",
    "  history=[\n",
    "  ]\n",
    ")"
   ]
  },
  {
   "cell_type": "code",
   "execution_count": 14,
   "metadata": {},
   "outputs": [],
   "source": [
    "def return_object_prompt(data, symbol_key):\n",
    "    return data.get(symbol_key, {}).get(\"prompt\")\n",
    "\n",
    "def return_object_source_keys(data, symbol_key):\n",
    "    return data.get(symbol_key, {}).get(\"source_key\")\n",
    "\n",
    "def return_concat_data_record(obj, data_dict):\n",
    "    data_record = {\n",
    "        \"pid\": obj.get(\"id\"),\n",
    "        \"get_date\": obj.get(\"get_date\"),\n",
    "        \"site_symbol\": obj.get(\"site_symbol\"),\n",
    "        \"job_title\": obj.get(\"job_title\", None),\n",
    "        \"dev_stack\": data_dict.get(\"dev_stack\", []),\n",
    "        \"job_requirements\": data_dict.get(\"job_requirements\", []),\n",
    "        \"job_prefer\": data_dict.get(\"job_prefer\", []),\n",
    "        \"job_category\": data_dict.get(\"job_category\", []),\n",
    "        \"indurstry_type\": data_dict.get(\"indurstry_type\", []),\n",
    "        \"required_career\": obj.get(\"required_career\", None),\n",
    "        \"resume_required\": obj.get(\"resume_required\", None),\n",
    "        \"post_status\": obj.get(\"post_status\", None),\n",
    "        \"company_name\": obj.get(\"company_name\", None),\n",
    "        \"cid\": fhash(obj.get(\"site_symbol\")+obj.get(\"company_name\")+str(int(obj.get(\"company_id\")))),\n",
    "        \"start_date\": obj.get(\"start_date\", None),\n",
    "        \"end_date\": obj.get(\"end_date\", None),\n",
    "        \"crawl_domain\": obj.get(\"crawl_domain\", None),\n",
    "        \"crawl_url\": obj.get(\"crawl_url\", None)\n",
    "    }\n",
    "    \n",
    "    return data_record\n",
    "\n",
    "def upload_data(_item):\n",
    "    # DynamoDB 클라이언트 생성\n",
    "    dynamodb = boto3.resource(\n",
    "        'dynamodb',\n",
    "        aws_access_key_id=key['aws_access_key_id'],\n",
    "        aws_secret_access_key=key['aws_secret_key'],\n",
    "        region_name=key['region']\n",
    "    )\n",
    "    table = dynamodb.Table(\"precessed-data-table\")\n",
    "    table.put_item(Item=_item)"
   ]
  },
  {
   "cell_type": "code",
   "execution_count": 15,
   "metadata": {},
   "outputs": [],
   "source": [
    "dynamodb = boto3.resource(\n",
    "        'dynamodb',\n",
    "        aws_access_key_id=key['aws_access_key_id'],\n",
    "        aws_secret_access_key=key['aws_secret_key'],\n",
    "        region_name=key['region']\n",
    "    )"
   ]
  },
  {
   "cell_type": "code",
   "execution_count": null,
   "metadata": {},
   "outputs": [],
   "source": [
    "prompt_data = prompt_metadata.get(\"data\", {})\n",
    "for _obj in source_data:\n",
    "    _symbol = _obj.get('site_symbol', \"\").upper()\n",
    "    if _symbol in prompt_data.keys():\n",
    "        _data_source_keys = return_object_source_keys(prompt_data, _symbol)\n",
    "        _prompt = return_object_prompt(prompt_data, _symbol).format(\n",
    "            data_source_keys=_data_source_keys, \n",
    "            input_data=str(_obj)\n",
    "            )\n",
    "        try:\n",
    "            response = chat_session.send_message(_prompt)\n",
    "            json_data = response.text.replace(\"```json\\n\", \"\").replace(\"\\n```\", \"\")\n",
    "            dict_data = json.loads(json_data)\n",
    "            data_item = return_concat_data_record(obj=_obj, data_dict=dict_data)\n",
    "            upload_data(data_item)\n",
    "            time.sleep(1)\n",
    "        except Exception as e:\n",
    "            print(e)\n",
    "    #break\n"
   ]
  },
  {
   "cell_type": "code",
   "execution_count": null,
   "metadata": {},
   "outputs": [],
   "source": []
  }
 ],
 "metadata": {
  "kernelspec": {
   "display_name": ".venv",
   "language": "python",
   "name": "python3"
  },
  "language_info": {
   "codemirror_mode": {
    "name": "ipython",
    "version": 3
   },
   "file_extension": ".py",
   "mimetype": "text/x-python",
   "name": "python",
   "nbconvert_exporter": "python",
   "pygments_lexer": "ipython3",
   "version": "3.11.0"
  }
 },
 "nbformat": 4,
 "nbformat_minor": 2
}
