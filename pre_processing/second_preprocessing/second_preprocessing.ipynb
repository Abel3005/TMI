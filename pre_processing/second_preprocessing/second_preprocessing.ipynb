{
 "cells": [
  {
   "cell_type": "code",
   "execution_count": 64,
   "metadata": {},
   "outputs": [],
   "source": [
    "import json, boto3, logging\n",
    "from botocore.exceptions import ClientError\n",
    "import google.generativeai as genai\n",
    "from farmhash import FarmHash32 as fhash"
   ]
  },
  {
   "cell_type": "code",
   "execution_count": 54,
   "metadata": {},
   "outputs": [],
   "source": [
    "with open(\"../.KEYS/API_KEYS.json\", \"r\") as f:\n",
    "    key = json.load(f)\n",
    "\n",
    "# S3 버킷 정보 get\n",
    "with open(\"../.KEYS/DATA_SRC_INFO.json\", \"r\") as f:\n",
    "    bucket_info = json.load(f)\n",
    "\n",
    "with open(\"../.KEYS/GEMINI_API_KEY.json\", \"r\") as f:\n",
    "    gemini_api_key = json.load(f)\n",
    "\n",
    "with open(\"../.DATA/PROMPT_INFO.json\") as f:\n",
    "    prompt_metadata = json.load(f)"
   ]
  },
  {
   "cell_type": "code",
   "execution_count": 3,
   "metadata": {},
   "outputs": [],
   "source": [
    "dynamo_table_name = bucket_info['restore_table_name']\n",
    "dynamodb = boto3.resource(\n",
    "        'dynamodb',\n",
    "        aws_access_key_id=key['aws_access_key_id'],\n",
    "        aws_secret_access_key=key['aws_secret_key'],\n",
    "        region_name=key['region']\n",
    "    )\n",
    "table = dynamodb.Table(dynamo_table_name)\n",
    "\n",
    "scan_kwargs = {}\n",
    "source_data = []"
   ]
  },
  {
   "cell_type": "code",
   "execution_count": 4,
   "metadata": {},
   "outputs": [],
   "source": [
    "# Pagination을 고려하여 모든 데이터를 가져오기\n",
    "while True:\n",
    "    response = table.scan(**scan_kwargs)\n",
    "    source_data.extend(response.get('Items', []))\n",
    "    scan_kwargs['ExclusiveStartKey'] = response.get('LastEvaluatedKey', None)\n",
    "    if not scan_kwargs['ExclusiveStartKey']:\n",
    "        break"
   ]
  },
  {
   "cell_type": "code",
   "execution_count": 14,
   "metadata": {},
   "outputs": [],
   "source": [
    "wanted_data = [obj for obj in source_data if obj.get('site_symbol', '').upper() == \"WAN\"]\n",
    "jobkorea_data = [obj for obj in source_data if obj.get('site_symbol', '').upper() == \"JK\"]\n",
    "rocketpunch_data = [obj for obj in source_data if obj.get('site_symbol', '').upper() == \"RP\"]\n",
    "programmers_data = [obj for obj in source_data if obj.get('site_symbol', '').upper() == \"PRO\"]"
   ]
  },
  {
   "cell_type": "code",
   "execution_count": 20,
   "metadata": {},
   "outputs": [],
   "source": [
    "genai.configure(api_key=gemini_api_key['GEMINI_API'])\n",
    "\n",
    "# Create the model\n",
    "generation_config = {\n",
    "  \"temperature\": 0.7,\n",
    "  \"top_p\": 0.95,\n",
    "  \"top_k\": 64,\n",
    "  \"max_output_tokens\": 8192,\n",
    "  \"response_mime_type\": \"text/plain\",\n",
    "}\n",
    "\n",
    "model = genai.GenerativeModel(\n",
    "  model_name=\"gemini-1.5-flash\",\n",
    "  generation_config=generation_config,\n",
    "  # safety_settings = Adjust safety settings\n",
    "  # See https://ai.google.dev/gemini-api/docs/safety-settings\n",
    ")\n",
    "\n",
    "chat_session = model.start_chat(\n",
    "  history=[\n",
    "  ]\n",
    ")"
   ]
  },
  {
   "cell_type": "code",
   "execution_count": 75,
   "metadata": {},
   "outputs": [],
   "source": [
    "def return_object_prompt(data, symbol_key):\n",
    "    return data.get(symbol_key, {}).get(\"prompt\")\n",
    "\n",
    "def return_object_source_keys(data, symbol_key):\n",
    "    return data.get(symbol_key, {}).get(\"source_key\")\n",
    "\n",
    "def return_concat_data_record(obj, data_dict):\n",
    "    data_record = {\n",
    "        \"pid\": obj.get(\"id\"),\n",
    "        \"get_date\": obj.get(\"get_date\"),\n",
    "        \"site_symbol\": obj.get(\"site_symbol\"),\n",
    "        \"job_title\": obj.get(\"job_title\", None),\n",
    "        \"dev_stack\": data_dict.get(\"dev_stack\", []),\n",
    "        \"job_requirements\": data_dict.get(\"job_requirements\", []),\n",
    "        \"job_prefer\": data_dict.get(\"job_prefer\", []),\n",
    "        \"job_category\": data_dict.get(\"job_category\", []),\n",
    "        \"indurstry_type\": data_dict.get(\"indurstry_type\", []),\n",
    "        \"required_career\": obj.get(\"required_career\", None),\n",
    "        \"resume_required\": obj.get(\"resume_required\", None),\n",
    "        \"post_status\": obj.get(\"post_status\", None),\n",
    "        \"company_name\": obj.get(\"company_name\", None),\n",
    "        \"cid\": fhash(obj.get(\"site_symbol\")+obj.get(\"company_name\")+str(int(obj.get(\"company_id\")))),\n",
    "        \"start_date\": obj.get(\"start_date\", None),\n",
    "        \"end_date\": obj.get(\"end_date\", None),\n",
    "        \"crawl_domain\": obj.get(\"crawl_domain\", None),\n",
    "        \"crawl_url\": obj.get(\"crawl_url\", None)\n",
    "    }\n",
    "    \n",
    "    return data_record"
   ]
  },
  {
   "cell_type": "code",
   "execution_count": 80,
   "metadata": {},
   "outputs": [],
   "source": [
    "dynamodb = boto3.resource(\n",
    "        'dynamodb',\n",
    "        aws_access_key_id=key['aws_access_key_id'],\n",
    "        aws_secret_access_key=key['aws_secret_key'],\n",
    "        region_name=key['region']\n",
    "    )"
   ]
  },
  {
   "cell_type": "code",
   "execution_count": 78,
   "metadata": {},
   "outputs": [],
   "source": [
    "prompt_data = prompt_metadata.get(\"data\", {})\n",
    "for _obj in source_data:\n",
    "    _symbol = _obj.get('site_symbol', \"\").upper()\n",
    "    if _symbol in prompt_data.keys():\n",
    "        _data_source_keys = return_object_source_keys(prompt_data, _symbol)\n",
    "        _prompt = return_object_prompt(prompt_data, _symbol).format(\n",
    "            data_source_keys=_data_source_keys, \n",
    "            input_data=str(_obj)\n",
    "            )\n",
    "        try:\n",
    "            response = chat_session.send_message(_prompt)\n",
    "            json_data = response.text.replace(\"```json\\n\", \"\").replace(\"\\n```\", \"\")\n",
    "            dict_data = json.loads(json_data)\n",
    "            data_record = return_concat_data_record(obj=_obj, data_dict=dict_data)\n",
    "        except Exception as e:\n",
    "            print(e)\n",
    "    break\n",
    "        "
   ]
  },
  {
   "cell_type": "code",
   "execution_count": 79,
   "metadata": {},
   "outputs": [
    {
     "data": {
      "text/plain": [
       "{'pid': Decimal('2902426399'),\n",
       " 'get_date': Decimal('20240828'),\n",
       " 'site_symbol': 'PRO',\n",
       " 'job_title': '프로그램 개발 엔지니어(PM/PL)',\n",
       " 'dev_stack': ['Java',\n",
       "  'JavaScript',\n",
       "  'Spring',\n",
       "  'Oracle',\n",
       "  'MSSQL',\n",
       "  'AWS',\n",
       "  'Azure',\n",
       "  'Google Cloud',\n",
       "  'MySQL',\n",
       "  'PostgreSQL'],\n",
       " 'job_requirements': ['IT 프로젝트 경력 6년 이상',\n",
       "  'PL 경험 2년 이상',\n",
       "  '웹 프로그래밍 능숙',\n",
       "  'RDBMS 활용 가능',\n",
       "  '고객 요구사항 분석',\n",
       "  '시스템 설계 가능'],\n",
       " 'job_prefer': ['구매 관련 프로젝트 경력',\n",
       "  '엠로 개발 프레임워크 경험',\n",
       "  'SCM 솔루션 개발 경험',\n",
       "  '클라우드 플랫폼 경험',\n",
       "  '프로젝트 관리 자격증'],\n",
       " 'job_category': ['Software Development',\n",
       "  'Backend Development',\n",
       "  'Frontend Development',\n",
       "  'Project Management'],\n",
       " 'indurstry_type': ['Software',\n",
       "  'SCM',\n",
       "  'Supply Chain Management',\n",
       "  'E-commerce'],\n",
       " 'required_career': True,\n",
       " 'resume_required': True,\n",
       " 'post_status': True,\n",
       " 'company_name': '엠로',\n",
       " 'cid': 3388543428,\n",
       " 'start_date': '2024-07-03',\n",
       " 'end_date': None,\n",
       " 'crawl_domain': 'https://career.programmers.co.kr/',\n",
       " 'crawl_url': 'https://career.programmers.co.kr/api/job_positions/8394'}"
      ]
     },
     "execution_count": 79,
     "metadata": {},
     "output_type": "execute_result"
    }
   ],
   "source": [
    "def upload_data(records):\n",
    "    # DynamoDB 클라이언트 생성\n",
    "    dynamodb = boto3.resource(\n",
    "        'dynamodb',\n",
    "        aws_access_key_id=key['aws_access_key_id'],\n",
    "        aws_secret_access_key=key['aws_secret_key'],\n",
    "        region_name=key['region']\n",
    "    )\n",
    "    table = dynamodb.Table(push_table_name)\n",
    "    for item in records:\n",
    "        table.put_item(Item=item)"
   ]
  }
 ],
 "metadata": {
  "kernelspec": {
   "display_name": ".venv",
   "language": "python",
   "name": "python3"
  },
  "language_info": {
   "codemirror_mode": {
    "name": "ipython",
    "version": 3
   },
   "file_extension": ".py",
   "mimetype": "text/x-python",
   "name": "python",
   "nbconvert_exporter": "python",
   "pygments_lexer": "ipython3",
   "version": "3.11.0rc1"
  }
 },
 "nbformat": 4,
 "nbformat_minor": 2
}
