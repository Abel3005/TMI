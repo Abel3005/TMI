{
 "cells": [
  {
   "cell_type": "code",
   "execution_count": 17,
   "metadata": {},
   "outputs": [],
   "source": [
    "import json, boto3, logging, time, asyncio\n",
    "from boto3.dynamodb.conditions import Key\n",
    "from botocore.exceptions import ClientError\n",
    "import google.generativeai as genai\n",
    "from google.generativeai.types import HarmCategory, HarmBlockThreshold\n",
    "from farmhash import FarmHash32 as fhash"
   ]
  },
  {
   "cell_type": "code",
   "execution_count": 2,
   "metadata": {},
   "outputs": [],
   "source": [
    "with open(\"../.KEYS/SECOND_PREPROCESSING_KEY.json\") as f:\n",
    "    aws_key = json.load(f)\n",
    "\n",
    "# data path 정보 get\n",
    "with open(\"../.KEYS/DATA_SRC_INFO.json\", \"r\") as f:\n",
    "    data_src = json.load(f)\n",
    "\n",
    "# GEMINI API key 값 get\n",
    "with open(\"../.KEYS/GEMINI_API_KEY.json\", \"r\") as f:\n",
    "    gemini_api_key = json.load(f)\n",
    "\n",
    "# prompt data get\n",
    "with open(\"../.DATA/PROMPT_INFO.json\") as f:\n",
    "    prompt_metadata = json.load(f)"
   ]
  },
  {
   "cell_type": "code",
   "execution_count": 3,
   "metadata": {},
   "outputs": [
    {
     "name": "stdout",
     "output_type": "stream",
     "text": [
      "Table update response: {'TableDescription': {'AttributeDefinitions': [{'AttributeName': 'get_date', 'AttributeType': 'N'}, {'AttributeName': 'id', 'AttributeType': 'N'}], 'TableName': 'merged-data-table', 'KeySchema': [{'AttributeName': 'id', 'KeyType': 'HASH'}, {'AttributeName': 'get_date', 'KeyType': 'RANGE'}], 'TableStatus': 'UPDATING', 'CreationDateTime': datetime.datetime(2024, 8, 22, 16, 36, 22, 876000, tzinfo=tzlocal()), 'ProvisionedThroughput': {'LastIncreaseDateTime': datetime.datetime(2024, 9, 3, 15, 41, 34, 718000, tzinfo=tzlocal()), 'LastDecreaseDateTime': datetime.datetime(2024, 9, 3, 15, 35, 12, 530000, tzinfo=tzlocal()), 'NumberOfDecreasesToday': 8, 'ReadCapacityUnits': 10, 'WriteCapacityUnits': 1}, 'TableSizeBytes': 16835415, 'ItemCount': 8400, 'TableArn': 'arn:aws:dynamodb:ap-northeast-2:533267279103:table/merged-data-table', 'TableId': '2c719fa9-8d09-4ecb-be34-b09f6f2674d5', 'TableClassSummary': {'TableClass': 'STANDARD'}, 'DeletionProtectionEnabled': False}, 'ResponseMetadata': {'RequestId': '76AODRPMI8LLLG9OJ6STUFLMO7VV4KQNSO5AEMVJF66Q9ASUAAJG', 'HTTPStatusCode': 200, 'HTTPHeaders': {'server': 'Server', 'date': 'Tue, 03 Sep 2024 06:41:34 GMT', 'content-type': 'application/x-amz-json-1.0', 'content-length': '765', 'connection': 'keep-alive', 'x-amzn-requestid': '76AODRPMI8LLLG9OJ6STUFLMO7VV4KQNSO5AEMVJF66Q9ASUAAJG', 'x-amz-crc32': '2159113820'}, 'RetryAttempts': 0}}\n"
     ]
    }
   ],
   "source": [
    "import boto3\n",
    "\n",
    "# DynamoDB 리소스 생성\n",
    "dynamodb = boto3.client(\n",
    "    'dynamodb',\n",
    "    aws_access_key_id=aws_key['aws_access_key_id'],\n",
    "    aws_secret_access_key=aws_key['aws_secret_key'],\n",
    "    region_name=aws_key['region']\n",
    ")\n",
    "\n",
    "# 테이블 이름\n",
    "dynamo_table_name = data_src['restore_table_name']\n",
    "\n",
    "# 읽기 용량을 늘리기 위한 업데이트\n",
    "response = dynamodb.update_table(\n",
    "    TableName=dynamo_table_name,\n",
    "    ProvisionedThroughput={\n",
    "        'ReadCapacityUnits': 10,  # 원하는 읽기 용량 단위\n",
    "        'WriteCapacityUnits': 5   # 원하는 쓰기 용량 단위 (필요에 따라 설정)\n",
    "    }\n",
    ")\n",
    "\n",
    "print(\"Table update response:\", response)\n"
   ]
  },
  {
   "cell_type": "code",
   "execution_count": null,
   "metadata": {},
   "outputs": [],
   "source": [
    "# 데이터 스캔 함수\n",
    "def scan_table(table_name, limit=200):\n",
    "    scan_kwargs = {\n",
    "        'TableName': table_name,\n",
    "        'Limit': limit  # 페이지 크기 설정 (여기서는 200)\n",
    "    }\n",
    "    \n",
    "    source_data = []\n",
    "    \n",
    "    while True:\n",
    "        try:\n",
    "            response = dynamodb.scan(**scan_kwargs)\n",
    "            source_data.extend(response.get('Items', []))\n",
    "            \n",
    "            # 스캔된 데이터가 limit 수보다 작거나 'LastEvaluatedKey'가 없으면 종료\n",
    "            if len(source_data) >= limit or 'LastEvaluatedKey' not in response:\n",
    "                break\n",
    "            \n",
    "            # 계속해서 다음 페이지의 데이터를 가져오기 위한 키 설정\n",
    "            scan_kwargs['ExclusiveStartKey'] = response['LastEvaluatedKey']\n",
    "        \n",
    "        except ClientError as e:\n",
    "            print(f\"An error occurred: {e}\")\n",
    "            break\n",
    "    \n",
    "    return source_data[:limit]  # 정확히 200개 항목만 반환\n",
    "\n",
    "# 데이터 가져오기\n",
    "items = scan_table(dynamo_table_name)\n",
    "\n",
    "# 결과 출력\n",
    "# print(f\"Retrieved {len(items)} items.\")\n",
    "# for item in items:\n",
    "#     print(item)\n"
   ]
  },
  {
   "cell_type": "code",
   "execution_count": 7,
   "metadata": {},
   "outputs": [
    {
     "data": {
      "text/plain": [
       "{'company_id': {'N': '1023'},\n",
       " 'site_symbol': {'S': 'PRO'},\n",
       " 'job_title': {'S': '프로그램 개발 엔지니어(PM/PL)'},\n",
       " 'job_category': {'S': '서버/백엔드, 프론트엔드'},\n",
       " 'job_prefer': {'S': '구매 관련 프로젝트 수행 경력 보유자 엠로 개발프레임워크 및 유사 SCM 솔루션 개발 경험자 클라우드 플랫폼(AWS, Azure, Google Cloud) 경험 우대 프로젝트 관리 자격증(PMP) 보유자'},\n",
       " 'crawl_url': {'S': 'https://career.programmers.co.kr/api/job_positions/8394'},\n",
       " 'end_date': {'NULL': True},\n",
       " 'status': {'S': 'released'},\n",
       " 'post_status': {'BOOL': True},\n",
       " 'required_career': {'BOOL': True},\n",
       " 'job_id': {'N': '8394'},\n",
       " 'crawl_domain': {'S': 'https://career.programmers.co.kr/'},\n",
       " 'company_name': {'S': '엠로'},\n",
       " 'resume_required': {'BOOL': True},\n",
       " 'start_date': {'S': '2024-07-03'},\n",
       " 'get_date': {'N': '20240828'},\n",
       " 'job_tasks': {'S': '공급망관리(SCM) 솔루션 설계 및 개발 구매업무 프로세스 최적화 및 시스템 구축 프로젝트 수행 고객 요구사항 분석 및 솔루션 제안'},\n",
       " 'id': {'N': '2902426399'},\n",
       " 'stacks': {'S': 'Java, JavaScript, Spring, Oracle, MSSQL(Microsoft SQL Server)'},\n",
       " 'job_requirements': {'S': 'IT 프로젝트 수행 경력 6년 이상 (PL 수행경험 2년 이상 포함) 웹 프로그래밍 능숙자 (Java, JavaScript, Spring framework 등) RDBMS(Oracle, MS-SQL, MySQL, PostgreSQL 등) 활용가능자 고객 요구사항 분석 및 시스템 설계 가능자'}}"
      ]
     },
     "execution_count": 7,
     "metadata": {},
     "output_type": "execute_result"
    }
   ],
   "source": [
    "items[0]"
   ]
  },
  {
   "cell_type": "code",
   "execution_count": 9,
   "metadata": {},
   "outputs": [],
   "source": [
    "wanted_data = [obj for obj in items if obj.get('site_symbol', '').get('S', '').upper() == \"WAN\"]\n",
    "jobkorea_data = [obj for obj in items if obj.get('site_symbol', '').get('S', '').upper() == \"JK\"]\n",
    "rocketpunch_data = [obj for obj in items if obj.get('site_symbol', '').get('S', '').upper() == \"RP\"]\n",
    "programmers_data = [obj for obj in items if obj.get('site_symbol', '').get('S', '').upper() == \"PRO\"]"
   ]
  },
  {
   "cell_type": "code",
   "execution_count": 15,
   "metadata": {},
   "outputs": [],
   "source": [
    "genai.configure(api_key=gemini_api_key['GEMINI_API'])\n",
    "\n",
    "# Create the model\n",
    "generation_config = {\n",
    "  \"temperature\": 0.7,\n",
    "  \"top_p\": 0.95,\n",
    "  \"top_k\": 64,\n",
    "  \"max_output_tokens\": 8192,\n",
    "  \"response_mime_type\": \"text/plain\",\n",
    "}\n",
    "\n",
    "model = genai.GenerativeModel(\n",
    "  model_name=\"gemini-1.5-flash\",\n",
    "  generation_config=generation_config,\n",
    "  safety_settings = {\n",
    "      HarmCategory.HARM_CATEGORY_HATE_SPEECH: HarmBlockThreshold.BLOCK_NONE,\n",
    "      HarmCategory.HARM_CATEGORY_HARASSMENT: HarmBlockThreshold.BLOCK_NONE,\n",
    "      HarmCategory.HARM_CATEGORY_SEXUALLY_EXPLICIT: HarmBlockThreshold.BLOCK_NONE,\n",
    "      HarmCategory.HARM_CATEGORY_DANGEROUS_CONTENT: HarmBlockThreshold.BLOCK_NONE\n",
    "  }\n",
    ")\n",
    "\n",
    "chat_session = model.start_chat(\n",
    "  history=[\n",
    "  ]\n",
    ")"
   ]
  },
  {
   "cell_type": "code",
   "execution_count": 16,
   "metadata": {},
   "outputs": [],
   "source": [
    "def return_object_prompt(data, symbol_key):\n",
    "    return data.get(symbol_key, {}).get(\"prompt\")\n",
    "\n",
    "def return_object_source_keys(data, symbol_key):\n",
    "    return data.get(symbol_key, {}).get(\"source_key\")\n",
    "\n",
    "def return_concat_data_record(obj, data_dict):\n",
    "    data_record = {\n",
    "        \"pid\": obj.get(\"id\"),\n",
    "        \"get_date\": obj.get(\"get_date\"),\n",
    "        \"site_symbol\": obj.get(\"site_symbol\"),\n",
    "        \"job_title\": obj.get(\"job_title\", None),\n",
    "        \"dev_stack\": data_dict.get(\"dev_stack\", []),\n",
    "        \"job_requirements\": data_dict.get(\"job_requirements\", []),\n",
    "        \"job_prefer\": data_dict.get(\"job_prefer\", []),\n",
    "        \"job_category\": data_dict.get(\"job_category\", []),\n",
    "        \"indurstry_type\": data_dict.get(\"indurstry_type\", []),\n",
    "        \"required_career\": obj.get(\"required_career\", None),\n",
    "        \"resume_required\": obj.get(\"resume_required\", None),\n",
    "        \"post_status\": obj.get(\"post_status\", None),\n",
    "        \"company_name\": obj.get(\"company_name\", None),\n",
    "        \"cid\": fhash(obj.get(\"site_symbol\")+obj.get(\"company_name\")+str(int(obj.get(\"company_id\")))),\n",
    "        \"start_date\": obj.get(\"start_date\", None),\n",
    "        \"end_date\": obj.get(\"end_date\", None),\n",
    "        \"crawl_domain\": obj.get(\"crawl_domain\", None),\n",
    "        \"crawl_url\": obj.get(\"crawl_url\", None)\n",
    "    }\n",
    "    \n",
    "    return data_record\n",
    "\n",
    "def upload_data(_item):\n",
    "    # DynamoDB 클라이언트 생성\n",
    "    dynamodb = boto3.resource(\n",
    "        'dynamodb',\n",
    "        aws_access_key_id=key['aws_access_key_id'],\n",
    "        aws_secret_access_key=key['aws_secret_key'],\n",
    "        region_name=key['region']\n",
    "    )\n",
    "    table = dynamodb.Table(\"precessed-data-table\")\n",
    "    table.put_item(Item=_item)"
   ]
  },
  {
   "cell_type": "code",
   "execution_count": null,
   "metadata": {},
   "outputs": [],
   "source": [
    "prompt_data = prompt_metadata.get(\"data\", {})\n",
    "for _obj in source_data:\n",
    "    _symbol = _obj.get('site_symbol', \"\").upper()\n",
    "    if _symbol in prompt_data.keys():\n",
    "        _data_source_keys = return_object_source_keys(prompt_data, _symbol)\n",
    "        _prompt = return_object_prompt(prompt_data, _symbol).format(\n",
    "            data_source_keys=_data_source_keys, \n",
    "            input_data=str(_obj)\n",
    "            )\n",
    "        try:\n",
    "            response = chat_session.send_message(_prompt)\n",
    "            json_data = response.text.replace(\"```json\\n\", \"\").replace(\"\\n```\", \"\")\n",
    "            dict_data = json.loads(json_data)\n",
    "            data_item = return_concat_data_record(obj=_obj, data_dict=dict_data)\n",
    "        except Exception as e:\n",
    "            print(e)\n"
   ]
  }
 ],
 "metadata": {
  "kernelspec": {
   "display_name": ".venv",
   "language": "python",
   "name": "python3"
  },
  "language_info": {
   "codemirror_mode": {
    "name": "ipython",
    "version": 3
   },
   "file_extension": ".py",
   "mimetype": "text/x-python",
   "name": "python",
   "nbconvert_exporter": "python",
   "pygments_lexer": "ipython3",
   "version": "3.11.0"
  }
 },
 "nbformat": 4,
 "nbformat_minor": 2
}
