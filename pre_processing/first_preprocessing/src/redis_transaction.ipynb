{
 "cells": [
  {
   "cell_type": "code",
   "execution_count": 2,
   "metadata": {},
   "outputs": [],
   "source": [
    "import redis, json\n",
    "import pandas as pd\n",
    "import utils"
   ]
  },
  {
   "cell_type": "code",
   "execution_count": 5,
   "metadata": {},
   "outputs": [],
   "source": [
    "with open(\"../../.KEYS/DATA_SRC_INFO.json\", \"r\") as f:\n",
    "    storage_info = json.load(f)"
   ]
  },
  {
   "cell_type": "code",
   "execution_count": 7,
   "metadata": {},
   "outputs": [],
   "source": [
    "redis_ip = storage_info['redis_conn_info']['ip']\n",
    "redis_port = storage_info['redis_conn_info']['port']\n",
    "\n",
    "redis_sassion = redis.StrictRedis(host=redis_ip, port=redis_port, db=0)"
   ]
  },
  {
   "cell_type": "code",
   "execution_count": 12,
   "metadata": {},
   "outputs": [],
   "source": [
    "id_list = pd.read_csv(\"selected.csv\").pid.to_list()"
   ]
  },
  {
   "cell_type": "code",
   "execution_count": null,
   "metadata": {},
   "outputs": [],
   "source": [
    "def check_id_in_redis(logger, redis_session, records):\n",
    "    inited_id_records = []\n",
    "    for record in records:\n",
    "        _id = record.get('id')\n",
    "        _get_date = record.get('get_date')\n",
    "        if not redis_session.hexists('compare_id', _id):  # Redis hash에 해당 id가 없으면\n",
    "            inited_id_records.append({\"id\": _id, \"get_date\": _get_date})\n",
    "            logger.info(f\"id {_id} is not exist in redis. Added upload list.\")\n",
    "        else:\n",
    "            logger.info(f\"id {_id} already exist in redis. This id passed.\")\n",
    "    \n",
    "    logger.info(f\"Completed check ids: target ids are {inited_id_records}\")\n",
    "    return inited_id_records\n",
    "\n",
    "# record에서 없는 id만 redis로 push\n",
    "def upload_id_into_redis(logger, redis_session, records):\n",
    "    for record in records:\n",
    "        _id = record.get('id')\n",
    "        _get_date = record.get('get_date')\n",
    "        if not redis_session.hexists('compare_id', _id):  # Redis hash에 해당 id가 없으면\n",
    "            redis_session.hset('compare_id', _id, _get_date)  # 해당 id를 해시에 저장\n",
    "            logger.info(f\"id {_id} init into redis.\")\n",
    "        else:\n",
    "            logger.info(f\"id {_id} already exist in redis. set id action dismissed\")"
   ]
  }
 ],
 "metadata": {
  "kernelspec": {
   "display_name": ".venv",
   "language": "python",
   "name": "python3"
  },
  "language_info": {
   "codemirror_mode": {
    "name": "ipython",
    "version": 3
   },
   "file_extension": ".py",
   "mimetype": "text/x-python",
   "name": "python",
   "nbconvert_exporter": "python",
   "pygments_lexer": "ipython3",
   "version": "3.11.0rc1"
  }
 },
 "nbformat": 4,
 "nbformat_minor": 2
}
