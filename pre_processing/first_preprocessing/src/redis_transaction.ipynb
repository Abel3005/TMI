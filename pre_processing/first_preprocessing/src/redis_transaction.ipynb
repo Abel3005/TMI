{
 "cells": [
  {
   "cell_type": "code",
   "execution_count": 1,
   "metadata": {},
   "outputs": [],
   "source": [
    "import redis, json\n",
    "import pandas as pd\n",
    "import utils"
   ]
  },
  {
   "cell_type": "code",
   "execution_count": 2,
   "metadata": {},
   "outputs": [],
   "source": [
    "with open(\"../../.KEYS/DATA_SRC_INFO.json\", \"r\") as f:\n",
    "    storage_info = json.load(f)"
   ]
  },
  {
   "cell_type": "code",
   "execution_count": 3,
   "metadata": {},
   "outputs": [],
   "source": [
    "redis_ip = storage_info['redis_conn_info']['ip']\n",
    "redis_port = storage_info['redis_conn_info']['port']\n",
    "\n",
    "redis_sassion = redis.StrictRedis(host=redis_ip, port=redis_port, db=0)"
   ]
  },
  {
   "cell_type": "code",
   "execution_count": 11,
   "metadata": {},
   "outputs": [],
   "source": [
    "id_list = pd.read_csv(\"selected.csv\").pid.to_list()\n",
    "id_records = [{\"id\": id, \"get_date\": \"20240923\"} for id in id_list]"
   ]
  },
  {
   "cell_type": "code",
   "execution_count": 14,
   "metadata": {},
   "outputs": [],
   "source": [
    "def check_id_in_redis_with_transaction(logger, redis_session, records):\n",
    "    inited_id_records = []\n",
    "    with redis_session.pipeline() as pipe:\n",
    "        try:\n",
    "            redis_session.watch('compare_id')\n",
    "            for record in records:\n",
    "                _id = record.get('id')\n",
    "                _get_date = record.get('get_date')\n",
    "                # Redis에서 해당 id의 존재 여부 감시 (트랜잭션 적용)\n",
    "                pipe.multi()  # 트랜잭션 시작\n",
    "                pipe.hexists('compare_id', _id)\n",
    "                exists = pipe.execute()[0]  # hexists 결과 실행 후 받아오기\n",
    "                if not exists:  # Redis hash에 해당 id가 없으면\n",
    "                    inited_id_records.append({\"id\": _id, \"get_date\": _get_date})\n",
    "                    logger.info(f\"id {_id} is not exist in redis. Added to upload list.\")\n",
    "                else:\n",
    "                    logger.info(f\"id {_id} already exists in redis. This id passed.\")\n",
    "            # 모든 트랜잭션 명령어를 실행 (성공 시)\n",
    "            pipe.execute()\n",
    "        \n",
    "        except redis.WatchError:\n",
    "            # 만약 다른 클라이언트가 키를 수정하여 트랜잭션이 실패한 경우\n",
    "            logger.warning(\"Transaction failed. Retrying the check for ids...\")\n",
    "            return check_id_in_redis_with_transaction(logger, redis_session, records)  # 재시도\n",
    "        except Exception as e:\n",
    "            logger.error(f\"An error occurred during the Redis transaction: {e}\")\n",
    "        finally:\n",
    "            redis_session.unwatch()\n",
    "    \n",
    "    logger.info(f\"Completed checking ids: target ids are {inited_id_records}\")\n",
    "    return inited_id_records\n"
   ]
  },
  {
   "cell_type": "code",
   "execution_count": null,
   "metadata": {},
   "outputs": [],
   "source": [
    "# record에서 없는 id만 redis로 push\n",
    "def upload_id_into_redis(logger, redis_session, records):\n",
    "    for record in records:\n",
    "        _id = record.get('id')\n",
    "        _get_date = record.get('get_date')\n",
    "        if not redis_session.hexists('compare_id', _id):  # Redis hash에 해당 id가 없으면\n",
    "            redis_session.hset('compare_id', _id, _get_date)  # 해당 id를 해시에 저장\n",
    "            logger.info(f\"id {_id} init into redis.\")\n",
    "        else:\n",
    "            logger.info(f\"id {_id} already exist in redis. set id action dismissed\")"
   ]
  },
  {
   "cell_type": "code",
   "execution_count": 15,
   "metadata": {},
   "outputs": [],
   "source": [
    "result, exist_result = check_id_in_redis_with_transaction(redis_sassion, id_records)"
   ]
  },
  {
   "cell_type": "code",
   "execution_count": null,
   "metadata": {},
   "outputs": [],
   "source": []
  }
 ],
 "metadata": {
  "kernelspec": {
   "display_name": ".venv",
   "language": "python",
   "name": "python3"
  },
  "language_info": {
   "codemirror_mode": {
    "name": "ipython",
    "version": 3
   },
   "file_extension": ".py",
   "mimetype": "text/x-python",
   "name": "python",
   "nbconvert_exporter": "python",
   "pygments_lexer": "ipython3",
   "version": "3.11.0rc1"
  }
 },
 "nbformat": 4,
 "nbformat_minor": 2
}
