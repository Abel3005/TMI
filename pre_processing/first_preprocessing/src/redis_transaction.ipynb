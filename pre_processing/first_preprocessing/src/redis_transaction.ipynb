{
 "cells": [
  {
   "cell_type": "code",
   "execution_count": 23,
   "metadata": {},
   "outputs": [],
   "source": [
    "import redis, json\n",
    "import pandas as pd\n",
    "import logging_to_cloudwatch as ltc\n",
    "import utils"
   ]
  },
  {
   "cell_type": "code",
   "execution_count": 24,
   "metadata": {},
   "outputs": [],
   "source": [
    "with open(\"../../.KEYS/DATA_SRC_INFO.json\", \"r\") as f:\n",
    "    storage_info = json.load(f)"
   ]
  },
  {
   "cell_type": "code",
   "execution_count": 25,
   "metadata": {},
   "outputs": [],
   "source": [
    "redis_ip = storage_info['redis_conn_info']['ip']\n",
    "redis_port = storage_info['redis_conn_info']['port']\n",
    "\n",
    "redis_session = redis.StrictRedis(host=redis_ip, port=redis_port, db=0)"
   ]
  },
  {
   "cell_type": "code",
   "execution_count": 26,
   "metadata": {},
   "outputs": [],
   "source": [
    "id_list = pd.read_csv(\"selected.csv\").pid.to_list()\n",
    "id_records = [{\"id\": id, \"get_date\": \"20240924\"} for id in id_list]"
   ]
  },
  {
   "cell_type": "code",
   "execution_count": 27,
   "metadata": {},
   "outputs": [],
   "source": [
    "def check_id_in_redis_with_transaction(logger, redis_session, records):\n",
    "    inited_id_records = []\n",
    "    with redis_session.pipeline() as pipe:\n",
    "        try:\n",
    "            logger.info(\"watch compare_id redis hash-key\")\n",
    "            redis_session.watch('compare_id')\n",
    "            logger.info(\"set redis read transaction.\")\n",
    "            pipe.multi()\n",
    "            for record in records:\n",
    "                _id = record.get('id')\n",
    "                pipe.hexists('compare_id', _id)\n",
    "            logger.info(\"start redis read transaction execute.\")\n",
    "            exists = pipe.execute()\n",
    "            for exist, record in zip(exists, records):\n",
    "                if not exist:\n",
    "                    inited_id_records.append(record)\n",
    "                    logger.info(f\"id record {record} is not exist in redis. Added to upload list.\")\n",
    "                else:\n",
    "                    logger.info(f\"id {record} already exists in redis. This id passed.\")\n",
    "        except redis.WatchError: # 만약 다른 클라이언트가 키를 수정하여 트랜잭션이 실패한 경우\n",
    "            logger.warning(\"Transaction failed. Retrying the check for ids...\")\n",
    "            return check_id_in_redis_with_transaction(logger, redis_session, records)  # 재시도\n",
    "        except Exception as e:\n",
    "            logger.error(f\"An error occurred during the Redis read transaction: {e}\")\n",
    "        finally:\n",
    "            logger.info(\"unwatch compare_id redis hash-key\")\n",
    "            redis_session.unwatch()\n",
    "            logger.info(f\"Completed checking ids: target ids are {inited_id_records}\")\n",
    "            \n",
    "            return inited_id_records"
   ]
  },
  {
   "cell_type": "code",
   "execution_count": 28,
   "metadata": {},
   "outputs": [],
   "source": [
    "# record에서 없는 id만 redis로 push\n",
    "def upload_id_into_redis(logger, redis_session, records):\n",
    "    logger.info(\"start upload id's into redis\")\n",
    "    with redis_session.pipe() as pipe:\n",
    "        try:\n",
    "            logger.info(\"watch compare_id redis hash-key\")\n",
    "            redis_session.watch('compare_id')\n",
    "            logger.info(\"set redis read transaction.\")\n",
    "            pipe.multi()\n",
    "            for record in records:\n",
    "                _id = record.get('id')\n",
    "                _get_date = record.get('get_date')\n",
    "                pipe.hset('compare_id', _id, _get_date)\n",
    "            logger.info(\"start redis upload transaction execute.\")\n",
    "            pipe.execute()\n",
    "        except Exception as e:\n",
    "            logger.error(f\"An error occurred during the Redis upload transaction: {e}\")\n",
    "        finally:\n",
    "            logger.info(\"unwatch compare_id redis hash-key\")\n",
    "            redis_session.unwatch()\n",
    "    logger.info(f\"Completed upload id's in redis.\")"
   ]
  },
  {
   "cell_type": "code",
   "execution_count": 29,
   "metadata": {},
   "outputs": [],
   "source": [
    "logger = ltc.log('/aws/preprocessing/wanted-first','wanted_logs')\n",
    "result = check_id_in_redis_with_transaction(logger, redis_session, id_records)"
   ]
  },
  {
   "cell_type": "code",
   "execution_count": 30,
   "metadata": {},
   "outputs": [
    {
     "data": {
      "text/plain": [
       "[]"
      ]
     },
     "execution_count": 30,
     "metadata": {},
     "output_type": "execute_result"
    }
   ],
   "source": [
    "result"
   ]
  },
  {
   "cell_type": "code",
   "execution_count": null,
   "metadata": {},
   "outputs": [],
   "source": []
  }
 ],
 "metadata": {
  "kernelspec": {
   "display_name": ".venv",
   "language": "python",
   "name": "python3"
  },
  "language_info": {
   "codemirror_mode": {
    "name": "ipython",
    "version": 3
   },
   "file_extension": ".py",
   "mimetype": "text/x-python",
   "name": "python",
   "nbconvert_exporter": "python",
   "pygments_lexer": "ipython3",
   "version": "3.11.0rc1"
  }
 },
 "nbformat": 4,
 "nbformat_minor": 2
}
