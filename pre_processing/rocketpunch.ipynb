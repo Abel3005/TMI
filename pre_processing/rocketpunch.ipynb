{
 "cells": [
  {
   "cell_type": "code",
   "execution_count": 53,
   "metadata": {},
   "outputs": [],
   "source": [
    "from farmhash import FarmHash32 as fh\n",
    "import pandas as pd\n",
    "import pytz\n",
    "import boto3\n",
    "import json\n",
    "import os\n",
    "import datetime\n",
    "from json.decoder import JSONDecodeError\n",
    "from botocore.exceptions import ClientError\n",
    "import logging\n",
    "import re"
   ]
  },
  {
   "cell_type": "code",
   "execution_count": 32,
   "metadata": {},
   "outputs": [],
   "source": [
    "file_path = '/home/team3/repository/keys/'"
   ]
  },
  {
   "cell_type": "code",
   "execution_count": null,
   "metadata": {},
   "outputs": [],
   "source": [
    "os.listdir(file_path)\n",
    "with open(f'{file_path}/API_KEYS.json', 'r') as f:\n",
    "    key = json.load(f)\n",
    "with open(f'{file_path}/DATA_SRC_INFO.json', 'r') as f:\n",
    "    bucket_info = json.load(f)"
   ]
  },
  {
   "cell_type": "code",
   "execution_count": 45,
   "metadata": {},
   "outputs": [],
   "source": [
    "pull_bucket_name = bucket_info['pull_bucket_name']\n",
    "push_bucket_name = bucket_info['push_bucket_name']\n",
    "target_folder_prefix = bucket_info['target_folder_prefix']['rocketpunch_path']"
   ]
  },
  {
   "cell_type": "code",
   "execution_count": 46,
   "metadata": {},
   "outputs": [
    {
     "name": "stdout",
     "output_type": "stream",
     "text": [
      "rocketpunch/data/\n"
     ]
    }
   ],
   "source": [
    "print(target_folder_prefix)"
   ]
  },
  {
   "cell_type": "code",
   "execution_count": 48,
   "metadata": {},
   "outputs": [],
   "source": [
    "# S3 섹션 및 client 생성\n",
    "session = boto3.Session(\n",
    "    aws_access_key_id=key['aws_access_key_id'],\n",
    "    aws_secret_access_key=key['aws_secret_key'],\n",
    "    region_name=key['region']\n",
    ")\n",
    "\n",
    "s3 = session.client('s3')"
   ]
  },
  {
   "cell_type": "code",
   "execution_count": 51,
   "metadata": {},
   "outputs": [
    {
     "name": "stdout",
     "output_type": "stream",
     "text": [
      "[{'Key': 'rocketpunch/data/2024-08-21_1702.json', 'LastModified': datetime.datetime(2024, 8, 21, 17, 6, 2, tzinfo=tzutc()), 'ETag': '\"c0d72cb0580d227fba38776a7f3f8782\"', 'Size': 931963, 'StorageClass': 'STANDARD'}]\n"
     ]
    }
   ],
   "source": [
    "# 특정 폴더 내 파일 목록 가져오기\n",
    "# TODO: \n",
    "# - 마지막 실행일(년,월,일)을 datetime으로 저장한 파일을 읽어들여 curr_date에 적용하기; 당담: 유정연\n",
    "response = s3.list_objects_v2(Bucket=pull_bucket_name, Prefix=target_folder_prefix, Delimiter='/')\n",
    "curr_date = datetime.datetime.now(pytz.timezone('Asia/Seoul')).date()  # 로컬 시간대(UTC+9)로 현재 날짜 설정\n",
    "kst_tz = pytz.timezone('Asia/Seoul') # kst timezone 설정\n",
    "#curr_date = datetime.date(2024, 8, 21)\n",
    "\n",
    "# curr_date 보다 날짜가 늦은 data josn 파일 metadata 객체 분류\n",
    "if 'Contents' in response:\n",
    "    target_file_list = [obj for obj in response['Contents'] if curr_date <= obj['LastModified'].astimezone(kst_tz).date()]\n",
    "    print(target_file_list)\n",
    "else:\n",
    "    print(\"No objects found in the folder.\")"
   ]
  },
  {
   "cell_type": "code",
   "execution_count": 54,
   "metadata": {},
   "outputs": [],
   "source": [
    "for obj in target_file_list:\n",
    "    try:\n",
    "        response = s3.get_object(Bucket=pull_bucket_name, Key=obj['Key'])\n",
    "        json_context = response['Body'].read().decode('utf-8')\n",
    "        cleaned_text = re.sub(r'[\\r\\u2028\\u2029]+', ' ', json_context) # 파싱을 위해 unuseal line terminators 제거\n",
    "        json_list = [json.loads(line) for line in cleaned_text.strip().splitlines()] # pandas format으로 맞추기\n",
    "        df = pd.DataFrame(json_list)\n",
    "    except JSONDecodeError as e:\n",
    "        logging.error(f\"JSONDecodeError encountered: {e}\")\n",
    "        continue\n",
    "    except ClientError as e:\n",
    "        logging.error(f\"ClientError encountered: {e}\")\n",
    "        continue\n",
    "    except Exception as e:\n",
    "        logging.error(f\"An unexpected error occurred: {e}\")\n",
    "        continue\n",
    "    \n",
    "    break"
   ]
  },
  {
   "cell_type": "code",
   "execution_count": 59,
   "metadata": {},
   "outputs": [
    {
     "data": {
      "text/html": [
       "<div>\n",
       "<style scoped>\n",
       "    .dataframe tbody tr th:only-of-type {\n",
       "        vertical-align: middle;\n",
       "    }\n",
       "\n",
       "    .dataframe tbody tr th {\n",
       "        vertical-align: top;\n",
       "    }\n",
       "\n",
       "    .dataframe thead th {\n",
       "        text-align: right;\n",
       "    }\n",
       "</style>\n",
       "<table border=\"1\" class=\"dataframe\">\n",
       "  <thead>\n",
       "    <tr style=\"text-align: right;\">\n",
       "      <th></th>\n",
       "      <th>company_id</th>\n",
       "      <th>company_name</th>\n",
       "      <th>description</th>\n",
       "      <th>job_id</th>\n",
       "      <th>job_title</th>\n",
       "      <th>job_career</th>\n",
       "      <th>timestamp</th>\n",
       "      <th>crawl_domain</th>\n",
       "      <th>job_url</th>\n",
       "      <th>date_end</th>\n",
       "      <th>date_start</th>\n",
       "      <th>job_task</th>\n",
       "      <th>job_specialties</th>\n",
       "      <th>job_detail</th>\n",
       "      <th>job_industry</th>\n",
       "      <th>site_symbol</th>\n",
       "    </tr>\n",
       "  </thead>\n",
       "  <tbody>\n",
       "    <tr>\n",
       "      <th>0</th>\n",
       "      <td>29987</td>\n",
       "      <td>런치팩</td>\n",
       "      <td>개발자 없이 웹/앱 플랫폼 서비스를 만들 수 있는 솔루션</td>\n",
       "      <td>151140</td>\n",
       "      <td>풀스택 개발자 (테마, 서비스 부분수정 개발 / 리드급)</td>\n",
       "      <td>[경력]</td>\n",
       "      <td>2024-08-21_17:02:32</td>\n",
       "      <td>www.rocketpunch.com</td>\n",
       "      <td>https://www.rocketpunch.com/jobs/151140</td>\n",
       "      <td>2024.09.05</td>\n",
       "      <td>2024.08.21</td>\n",
       "      <td>- 플랫폼 서비스 프론트엔드, 백엔드 개발- 서비스 Back-office 개발100...</td>\n",
       "      <td>Django, Vue.js</td>\n",
       "      <td>자격요건- Django Rest Framework 구조를 통해 플랫폼 서비스 개발 ...</td>\n",
       "      <td>IT서비스, 소프트웨어개발, 솔루션, SaaS, 앱개발, UX, 모바일앱개발, 웹빌...</td>\n",
       "      <td>RP</td>\n",
       "    </tr>\n",
       "    <tr>\n",
       "      <th>1</th>\n",
       "      <td>29987</td>\n",
       "      <td>런치팩</td>\n",
       "      <td>개발자 없이 웹/앱 플랫폼 서비스를 만들 수 있는 솔루션</td>\n",
       "      <td>151141</td>\n",
       "      <td>프론트엔드 개발자 (테마 프론트엔드 개발 / 시니어)</td>\n",
       "      <td>[경력]</td>\n",
       "      <td>2024-08-21_17:02:32</td>\n",
       "      <td>www.rocketpunch.com</td>\n",
       "      <td>https://www.rocketpunch.com/jobs/151141</td>\n",
       "      <td>2024.09.05</td>\n",
       "      <td>2024.08.21</td>\n",
       "      <td>- AWS 기반 솔루션 인프라 관리- 솔루션 백오피스 개발100% 원격근무 가능합니...</td>\n",
       "      <td>Vue.js</td>\n",
       "      <td>자격요건- 관련 경력 5년 이상- VueJS를 버전2의 Options API부터, ...</td>\n",
       "      <td>IT서비스, 소프트웨어개발, 솔루션, SaaS, 앱개발, UX, 모바일앱개발, 웹빌...</td>\n",
       "      <td>RP</td>\n",
       "    </tr>\n",
       "  </tbody>\n",
       "</table>\n",
       "</div>"
      ],
      "text/plain": [
       "  company_id company_name                      description  job_id  \\\n",
       "0      29987          런치팩  개발자 없이 웹/앱 플랫폼 서비스를 만들 수 있는 솔루션  151140   \n",
       "1      29987          런치팩  개발자 없이 웹/앱 플랫폼 서비스를 만들 수 있는 솔루션  151141   \n",
       "\n",
       "                         job_title job_career            timestamp  \\\n",
       "0  풀스택 개발자 (테마, 서비스 부분수정 개발 / 리드급)       [경력]  2024-08-21_17:02:32   \n",
       "1    프론트엔드 개발자 (테마 프론트엔드 개발 / 시니어)       [경력]  2024-08-21_17:02:32   \n",
       "\n",
       "          crawl_domain                                  job_url    date_end  \\\n",
       "0  www.rocketpunch.com  https://www.rocketpunch.com/jobs/151140  2024.09.05   \n",
       "1  www.rocketpunch.com  https://www.rocketpunch.com/jobs/151141  2024.09.05   \n",
       "\n",
       "   date_start                                           job_task  \\\n",
       "0  2024.08.21  - 플랫폼 서비스 프론트엔드, 백엔드 개발- 서비스 Back-office 개발100...   \n",
       "1  2024.08.21  - AWS 기반 솔루션 인프라 관리- 솔루션 백오피스 개발100% 원격근무 가능합니...   \n",
       "\n",
       "  job_specialties                                         job_detail  \\\n",
       "0  Django, Vue.js  자격요건- Django Rest Framework 구조를 통해 플랫폼 서비스 개발 ...   \n",
       "1          Vue.js  자격요건- 관련 경력 5년 이상- VueJS를 버전2의 Options API부터, ...   \n",
       "\n",
       "                                        job_industry site_symbol  \n",
       "0  IT서비스, 소프트웨어개발, 솔루션, SaaS, 앱개발, UX, 모바일앱개발, 웹빌...          RP  \n",
       "1  IT서비스, 소프트웨어개발, 솔루션, SaaS, 앱개발, UX, 모바일앱개발, 웹빌...          RP  "
      ]
     },
     "execution_count": 59,
     "metadata": {},
     "output_type": "execute_result"
    }
   ],
   "source": [
    "df.head(2)"
   ]
  },
  {
   "cell_type": "code",
   "execution_count": 86,
   "metadata": {},
   "outputs": [],
   "source": [
    "processing_df = pd.DataFrame()"
   ]
  },
  {
   "cell_type": "code",
   "execution_count": 96,
   "metadata": {},
   "outputs": [
    {
     "ename": "TypeError",
     "evalue": "descriptor 'strftime' for 'datetime.date' objects doesn't apply to a 'str' object",
     "output_type": "error",
     "traceback": [
      "\u001b[0;31m---------------------------------------------------------------------------\u001b[0m",
      "\u001b[0;31mTypeError\u001b[0m                                 Traceback (most recent call last)",
      "Cell \u001b[0;32mIn[96], line 19\u001b[0m\n\u001b[1;32m     17\u001b[0m processing_df[\u001b[38;5;124m'\u001b[39m\u001b[38;5;124mindurstry_type\u001b[39m\u001b[38;5;124m'\u001b[39m] \u001b[38;5;241m=\u001b[39m re\u001b[38;5;241m.\u001b[39msub(\u001b[38;5;124mr\u001b[39m\u001b[38;5;124m'\u001b[39m\u001b[38;5;130;01m\\\\\u001b[39;00m\u001b[38;5;124m/\u001b[39m\u001b[38;5;124m'\u001b[39m, \u001b[38;5;124m'\u001b[39m\u001b[38;5;124m/\u001b[39m\u001b[38;5;124m'\u001b[39m, data[\u001b[38;5;124m'\u001b[39m\u001b[38;5;124mjob_industry\u001b[39m\u001b[38;5;124m'\u001b[39m])\n\u001b[1;32m     18\u001b[0m \u001b[38;5;66;03m# date_start > start_date\u001b[39;00m\n\u001b[0;32m---> 19\u001b[0m processing_df[\u001b[38;5;124m'\u001b[39m\u001b[38;5;124mstart_date\u001b[39m\u001b[38;5;124m'\u001b[39m] \u001b[38;5;241m=\u001b[39m \u001b[43mdatetime\u001b[49m\u001b[38;5;241;43m.\u001b[39;49m\u001b[43mdatetime\u001b[49m\u001b[38;5;241;43m.\u001b[39;49m\u001b[43mstrftime\u001b[49m\u001b[43m(\u001b[49m\u001b[43mdata\u001b[49m\u001b[43m[\u001b[49m\u001b[38;5;124;43m'\u001b[39;49m\u001b[38;5;124;43mdate_start\u001b[39;49m\u001b[38;5;124;43m'\u001b[39;49m\u001b[43m]\u001b[49m\u001b[43m)\u001b[49m\n\u001b[1;32m     21\u001b[0m \u001b[38;5;28mprint\u001b[39m(processing_df)\n\u001b[1;32m     24\u001b[0m \u001b[38;5;28;01mbreak\u001b[39;00m\n",
      "\u001b[0;31mTypeError\u001b[0m: descriptor 'strftime' for 'datetime.date' objects doesn't apply to a 'str' object"
     ]
    }
   ],
   "source": [
    "for i, data in df.iterrows() :\n",
    "    # rocketpunch key > merged key\n",
    "    # job_task > job_tasks\n",
    "    if pd.notnull(data['job_task']) :\n",
    "        processing_df.at[i, 'job_tasks'] = ' '.join(\n",
    "            [item for item in re.sub(r'[^.,/\\-+()\\s\\w]', ' ', \\\n",
    "                re.sub(r'\\\\/', '/', data['job_task'])).split() if item not in ['-', '+']]\n",
    "        )\n",
    "    # job_specialites > stacks\n",
    "    processing_df['stacks'] = re.sub(r'\\\\/', '/', data['job_specialties'])\n",
    "    # job_detail > job_requirements\n",
    "    processing_df['job_requirements'] = ' '.join(\n",
    "        [item for item in re.sub(r'[^.,/\\-+()\\s\\w]', ' ', \\\n",
    "            re.sub(r'\\\\/', '/', data['job_detail'])).split() if item not in ['-', '+']]\n",
    "        )\n",
    "    # job_industry > indurstry_type\n",
    "    processing_df['indurstry_type'] = re.sub(r'\\\\/', '/', data['job_industry'])\n",
    "    # date_start > start_date\n",
    "    processing_df['start_date'] = datetime.datetime.strftime(data['date_start'])\n",
    "    # date_end > end_date\n",
    "    \n",
    "    #job_career > required_career\n",
    "    processing_df['required_career'] = any(career in \"신입\" for career in data['job_career'])\n",
    "    \n",
    "    # symbol 추가\n",
    "    processing_df['symbol'] = \"RP\"\n",
    "    \n",
    "    print(processing_df)\n",
    "    \n",
    "    \n",
    "    break"
   ]
  },
  {
   "cell_type": "code",
   "execution_count": null,
   "metadata": {},
   "outputs": [],
   "source": []
  },
  {
   "cell_type": "code",
   "execution_count": null,
   "metadata": {},
   "outputs": [],
   "source": []
  }
 ],
 "metadata": {
  "kernelspec": {
   "display_name": "team3",
   "language": "python",
   "name": "python3"
  },
  "language_info": {
   "codemirror_mode": {
    "name": "ipython",
    "version": 3
   },
   "file_extension": ".py",
   "mimetype": "text/x-python",
   "name": "python",
   "nbconvert_exporter": "python",
   "pygments_lexer": "ipython3",
   "version": "3.12.4"
  }
 },
 "nbformat": 4,
 "nbformat_minor": 2
}
