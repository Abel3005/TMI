{
 "cells": [
  {
   "cell_type": "code",
   "execution_count": 9,
   "metadata": {},
   "outputs": [],
   "source": [
    "import json, boto3\n",
    "import pandas as pd\n",
    "import datetime"
   ]
  },
  {
   "cell_type": "code",
   "execution_count": 10,
   "metadata": {},
   "outputs": [],
   "source": [
    "# S3 client 생성에 필요한 보안 자격 증명 정보\n",
    "with open(\"./API_KEYS.json\", \"r\") as f:\n",
    "    key = json.load(f)\n",
    "\n",
    "with open(\"./DATA_SRC_INFO.json\", \"r\") as f:\n",
    "    bucket_info = json.load(f)\n",
    "# S3 버킷 정보\n",
    "pull_bucket_name = 'crawl-data-lake'\n",
    "push_bucket_name = 'merged-data-storage'\n",
    "target_folder_prefix = 'wanted/data/'"
   ]
  },
  {
   "cell_type": "code",
   "execution_count": 11,
   "metadata": {},
   "outputs": [],
   "source": [
    "# S3 섹션 및 client 생성\n",
    "session = boto3.Session(\n",
    "    aws_access_key_id=key['aws_access_key_id'],\n",
    "    aws_secret_access_key=key['aws_secret_key'],\n",
    "    region_name=key['region']\n",
    ")\n",
    "\n",
    "s3 = session.client('s3')"
   ]
  },
  {
   "cell_type": "code",
   "execution_count": 12,
   "metadata": {},
   "outputs": [],
   "source": [
    "# S3 버킷 정보\n",
    "pull_bucket_name = bucket_info['pull_bucket_name']\n",
    "push_bucket_name = bucket_info['push_bucket_name']\n",
    "target_folder_prefix = bucket_info['target_folder_prefix']"
   ]
  },
  {
   "cell_type": "code",
   "execution_count": 13,
   "metadata": {},
   "outputs": [],
   "source": [
    "# 특정 폴더 내 파일 목록 가져오기\n",
    "response = s3.list_objects_v2(Bucket=pull_bucket_name, Prefix=target_folder_prefix, Delimiter='/')\n",
    "#curr_date = datetime.datetime.now()\n",
    "curr_date = datetime.date(2024, 8, 19)\n",
    "\n",
    "# curr_date 보다 날짜가 늦은 data josn 파일 metadata 객체 분류\n",
    "if 'Contents' in response:\n",
    "    target_file_list = [obj for obj in response['Contents'] if curr_date <= obj['LastModified'].date()]\n",
    "else:\n",
    "    print(\"No objects found in the folder.\")"
   ]
  },
  {
   "cell_type": "code",
   "execution_count": 16,
   "metadata": {},
   "outputs": [],
   "source": [
    "# 분류한 list 기준으로 data 읽어오기\n",
    "for obj in target_file_list:\n",
    "    response = s3.get_object(Bucket=pull_bucket_name, Key=obj['Key'])\n",
    "    json_context = response['Body'].read().decode('utf-8')\n",
    "    json_data = [json.loads(line) for line in json_context.splitlines()]\n",
    "    \n",
    "    df = pd.DataFrame(json_data)\n",
    "    break"
   ]
  },
  {
   "cell_type": "code",
   "execution_count": null,
   "metadata": {},
   "outputs": [],
   "source": []
  }
 ],
 "metadata": {
  "kernelspec": {
   "display_name": ".venv",
   "language": "python",
   "name": "python3"
  },
  "language_info": {
   "codemirror_mode": {
    "name": "ipython",
    "version": 3
   },
   "file_extension": ".py",
   "mimetype": "text/x-python",
   "name": "python",
   "nbconvert_exporter": "python",
   "pygments_lexer": "ipython3",
   "version": "3.11.0rc1"
  }
 },
 "nbformat": 4,
 "nbformat_minor": 2
}
