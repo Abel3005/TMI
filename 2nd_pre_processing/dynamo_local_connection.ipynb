{
 "cells": [
  {
   "cell_type": "code",
   "execution_count": 1,
   "metadata": {},
   "outputs": [],
   "source": [
    "import json, boto3, logging\n",
    "from botocore.exceptions import ClientError"
   ]
  },
  {
   "cell_type": "code",
   "execution_count": 42,
   "metadata": {},
   "outputs": [],
   "source": [
    "with open(\"./.KEYS/API_KEYS.json\", \"r\") as f:\n",
    "    key = json.load(f)\n",
    "\n",
    "# S3 버킷 정보 get\n",
    "with open(\"./.KEYS/DATA_SRC_INFO.json\", \"r\") as f:\n",
    "    bucket_info = json.load(f)\n",
    "\n",
    "with open(\"./.KEYS/GEMINI_API_KEY.json\", \"r\") as f:\n",
    "    gemini_api_key = json.load(f)"
   ]
  },
  {
   "cell_type": "code",
   "execution_count": 3,
   "metadata": {},
   "outputs": [],
   "source": [
    "dynamo_table_name = bucket_info['restore_table_name']"
   ]
  },
  {
   "cell_type": "code",
   "execution_count": 4,
   "metadata": {},
   "outputs": [],
   "source": [
    "dynamodb = boto3.resource(\n",
    "        'dynamodb',\n",
    "        aws_access_key_id=key['aws_access_key_id'],\n",
    "        aws_secret_access_key=key['aws_secret_key'],\n",
    "        region_name=key['region']\n",
    "    )\n",
    "table = dynamodb.Table(dynamo_table_name)"
   ]
  },
  {
   "cell_type": "code",
   "execution_count": 5,
   "metadata": {},
   "outputs": [],
   "source": [
    "scan_kwargs = {}\n",
    "data = []"
   ]
  },
  {
   "cell_type": "code",
   "execution_count": 6,
   "metadata": {},
   "outputs": [],
   "source": [
    "# Pagination을 고려하여 모든 데이터를 가져오기\n",
    "while True:\n",
    "    response = table.scan(**scan_kwargs)\n",
    "    data.extend(response.get('Items', []))\n",
    "    scan_kwargs['ExclusiveStartKey'] = response.get('LastEvaluatedKey', None)\n",
    "    if not scan_kwargs['ExclusiveStartKey']:\n",
    "        break"
   ]
  },
  {
   "cell_type": "code",
   "execution_count": 7,
   "metadata": {},
   "outputs": [],
   "source": [
    "wanted_data = [obj for obj in data if obj.get('site_symbol', '').upper() == \"WAN\"]\n",
    "jobkorea_data = [obj for obj in data if obj.get('site_symbol', '').upper() == \"JK\"]"
   ]
  },
  {
   "cell_type": "code",
   "execution_count": 8,
   "metadata": {},
   "outputs": [
    {
     "data": {
      "text/plain": [
       "\"{'company_id': Decimal('18028'), 'site_symbol': 'WAN', 'job_title': '정보보안 담당자', 'job_prefer': '정보보호 관련 학과 및 IT 관련학 전공 클라우드 보안솔루션 운영 경험이 있으신 분 인프라 취약점 점검 및 웹 모의해킹 수행 가능하신 분 ISO27701, ISMS-P 보안인증 대응 경험이 있으신 분 ISMS-P 인증심사원, CPPG, CISA, CISSP, 정보보안기사 자격증을 보유하신 분', 'crawl_url': 'https://www.wanted.co.kr/wd/230608', 'end_date': None, 'job_id': Decimal('230608'), 'crawl_domain': 'www.wanted.co.kr', 'company_name': '차란차', 'get_date': Decimal('1724605651'), 'job_tasks': '정보보호 관련 규정,지침,정책을 수립, 관리 및 운영 정보보호 교육 계획을 수립하고 운영 개인정보위원회, 한국인터넷진흥원 등 외부 감사와 이슈 대응 ISMS-P 인증 준비 및 대응 활동 접근통제, 사내 보안 업무를 수행', 'id': Decimal('2581867662'), 'job_requirements': '5년 이상 10년 이하의 정보보호 업무 경험이 있으신 분 외부 감사 대응 경험이 있으신 분 ISMS-P 인증 경험이 있으신 분 다양한 플랫폼의 Public/Private Cloud 인프라 보안정책 설정 경험이 있으신 분 보안 솔루션 접근통제, 방화벽, 사용자 보안, VPN 경험이 있으신 분 개인정보처리시스템 현황 파악 및 관리 경험이 있으신 분 개인정보보호 정책, 지침 및 가이드에 대한 수립, 운영 및 관리 경험이 있으신 분'}\""
      ]
     },
     "execution_count": 8,
     "metadata": {},
     "output_type": "execute_result"
    }
   ],
   "source": [
    "str(wanted_data[5])"
   ]
  },
  {
   "cell_type": "code",
   "execution_count": 9,
   "metadata": {},
   "outputs": [
    {
     "data": {
      "text/plain": [
       "\"{'indurstry_type': '소프트웨어 자문,개발,공급/컴퓨터주변기기 도소매', 'site_symbol': 'JK', 'job_title': '광화문 흥국생명 차세대시스템 구축 Java, BXM 프레임웍, 융자업무 관련 경험자를 모집 합니다. (s01)', 'job_category': '응용 소프트웨어 개발 및 공급업', 'crawl_url': 'https://www.jobkorea.co.kr/Recruit/GI_Read/45423573', 'end_date': '1724598000', 'required_career': False, 'job_id': '45423573', 'company_name': '행복추구 패러다임㈜kcms', 'resume_required': True, 'start_date': '1724511600', 'get_date': Decimal('1724605790'), 'job_tasks': '광화문 흥국생명 차세대시스템 구축', 'id': Decimal('2352333735'), 'stacks': 'JAVA, BXM 프레임웍, 융자업무 관련 경험자'}\""
      ]
     },
     "execution_count": 9,
     "metadata": {},
     "output_type": "execute_result"
    }
   ],
   "source": [
    "str(jobkorea_data[3])"
   ]
  },
  {
   "cell_type": "code",
   "execution_count": 29,
   "metadata": {},
   "outputs": [],
   "source": [
    "\"\"\"\n",
    "Install the Google AI Python SDK\n",
    "\n",
    "$ pip install google-generativeai\n",
    "\"\"\"\n",
    "\n",
    "import google.generativeai as genai\n",
    "\n",
    "#genai.configure(api_key=os.environ[\"GEMINI_API_KEY\"])\n",
    "genai.configure(api_key=gemini_api_key['GEMINI_API'])\n",
    "\n",
    "# Create the model\n",
    "generation_config = {\n",
    "  \"temperature\": 0.7,\n",
    "  \"top_p\": 0.95,\n",
    "  \"top_k\": 64,\n",
    "  \"max_output_tokens\": 8192,\n",
    "  \"response_mime_type\": \"text/plain\",\n",
    "}\n",
    "\n",
    "model = genai.GenerativeModel(\n",
    "  model_name=\"gemini-1.5-flash\",\n",
    "  generation_config=generation_config,\n",
    "  # safety_settings = Adjust safety settings\n",
    "  # See https://ai.google.dev/gemini-api/docs/safety-settings\n",
    ")\n",
    "\n",
    "chat_session = model.start_chat(\n",
    "  history=[\n",
    "  ]\n",
    ")"
   ]
  },
  {
   "cell_type": "code",
   "execution_count": 38,
   "metadata": {},
   "outputs": [
    {
     "data": {
      "text/plain": [
       "{'company_id': Decimal('3260'),\n",
       " 'site_symbol': 'WAN',\n",
       " 'job_title': 'QA 엔지니어',\n",
       " 'job_prefer': 'CSTE, ISTQB, CSTS 등 자격증 보유자 성능테스트, 자동화테스트 경험자 개발 경력 보유자 CI/CD에 대한 이해와 경험 우대 Jenkins 등',\n",
       " 'crawl_url': 'https://www.wanted.co.kr/wd/19232',\n",
       " 'end_date': None,\n",
       " 'job_id': Decimal('19232'),\n",
       " 'crawl_domain': 'www.wanted.co.kr',\n",
       " 'company_name': '모노리스',\n",
       " 'get_date': Decimal('1724605651'),\n",
       " 'job_tasks': 'Mobile App, Mobile Web, Back-office, 예약,판매관리시스템 등 모노리스에서 운영하는 서비스의 전반적인 품질 관리 서비스를 구성하는 전장, 트랙 센서 등 IoT 기기들에 적용되는 소프트웨어 품질 관리 소프트웨어 요구사항 및 구성에 대한 리뷰 피드백 결함 보고, 추적 및 분석에 따른 이슈 관리 개발 프로세스에서 다양한 기술이나 기법을 적용 더 좋은 개발문화를 함께 만들기',\n",
       " 'id': Decimal('434466414'),\n",
       " 'job_requirements': '5년 이상의 QA 업무 경험 iOS/Android Mobile Application QA 경험자 컴퓨터 관련 학과 졸업 or 그에 상응하는 역량 보유 빠른 프로세스에 유연하게 대응이 가능하신 분'}"
      ]
     },
     "execution_count": 38,
     "metadata": {},
     "output_type": "execute_result"
    }
   ],
   "source": [
    "wanted_data[6]"
   ]
  },
  {
   "cell_type": "code",
   "execution_count": 43,
   "metadata": {},
   "outputs": [
    {
     "name": "stdout",
     "output_type": "stream",
     "text": [
      "```json\n",
      "{\n",
      "  \"dev_stack\": [\n",
      "    \"mobile app testing\",\n",
      "    \"mobile web testing\",\n",
      "    \"performance testing\",\n",
      "    \"automation testing\",\n",
      "    \"CI/CD\",\n",
      "    \"Jenkins\",\n",
      "    \"IoT\",\n",
      "    \"software requirements\",\n",
      "    \"defect tracking\",\n",
      "    \"issue management\"\n",
      "  ],\n",
      "  \"job_requirements\": [\n",
      "    \"QA 업무 경험 5년 이상\",\n",
      "    \"iOS/Android Mobile Application QA 경험\",\n",
      "    \"컴퓨터 관련 학과 졸업 또는 그에 상응하는 역량 보유\",\n",
      "    \"빠른 프로세스에 유연하게 대응 가능\"\n",
      "  ],\n",
      "  \"job_prefer\": [\n",
      "    \"CSTE, ISTQB, CSTS 등 자격증 보유\",\n",
      "    \"성능테스트, 자동화테스트 경험\",\n",
      "    \"개발 경력 보유\",\n",
      "    \"CI/CD에 대한 이해와 경험\",\n",
      "    \"Jenkins 사용 경험\"\n",
      "  ],\n",
      "  \"job_category\": [\n",
      "    \"QA Engineer\",\n",
      "    \"Software Quality Assurance\",\n",
      "    \"Testing\"\n",
      "  ],\n",
      "  \"indurstry_type\": [\n",
      "    \"IT\",\n",
      "    \"Software\",\n",
      "    \"Technology\",\n",
      "    \"Mobile\",\n",
      "    \"IoT\"\n",
      "  ],\n",
      "  \"required_career\": true\n",
      "}\n",
      "```\n"
     ]
    }
   ],
   "source": [
    "# WANTED propmt\n",
    "\n",
    "tech_stack_list = [\"programming languages\", \"frameworks\", \"databases\", \"cloud services\", \"devops tools\", \"version control tools\", \"ci cd tools\", \"testing tools\", \"package management tools\", \"api management tools\"]\n",
    "info_keys = [\"job_title\", \"job_prefer\", \"job_task\", \"job_requirements\"]\n",
    "info_keys_str = ', '.join(info_keys)\n",
    "tech_stack_list_str = ', '.join(tech_stack_list)\n",
    "input_data = str(wanted_data[6])\n",
    "input_text = f\"[문맥]\\n당신은 IT-Software 전문 도메인을 가진 데이터 전문가입니다. 주어진 json형태의 데이터에서 필요한 데이터를 추출하거나 요약하는 임무를 맡았습니다.\\n[Instruction]\\nInput Data에서 주어진 json 포맷의 텍스트 데이터에서 {info_keys_str} key의 value 값을 바탕으로 아래에 주어진 key 값들에 대한 value 값을 채워주세요. 단, 모를 경우 \\\"null\\\"을 넣어주세요.\\n- `dev_stack`: Input Data를 기반으로 유추하거나 추출한 개발에 사용되는 프로그램 기술의 모음입니다. 해당 key의 value는 항상 영단어로 이루어진 list여야 합니다.\\n- `job_requirements`: Input data를 기반으로 유추한 직무의 요구사항입니다. 결과는 한글로 된 열 개 단어 이하인 문장 또는 단어이며, list 포맷으로 제시됩니다.\\n- `job_prefer`: Input data를 기반으로 유추한 직무의 우대사항입니다. 결과는 한글로 된 열 개 단어 이하의 문장 또는 단어이며, list 포맷으로 제시됩니다.\\n- `job_category`: Input Data를 기반으로 유추한 직무(position) 분류 입니다. 결과는 영단어로 이루어진 list여야 합니다.\\n- `indurstry_type`: Input Data에서 유추한 직무의 산업 분류입니다. value 값은 영단어로 이루어진 list여야 합니다.\\n- `required_career`: Input Data에서 경력을 요구유무를 나타냅니다. 경력일 경우 `True` BOOLEAN값을, 신입일 경우 `False` BOOLEAN값을 넣어주세요.\\n[Input Data]\\n{input_data}\"\n",
    "#input_text = f\"[문맥]\\n당신은 IT-Software 전문 도메인을 가진 데이터 전문가입니다. 주어진 json형태의 데이터에서 필요한 데이터를 추출하거나 요약하는 임무를 맡았습니다.\\n[Instruction]\\nInput Data에서 주어진 json 포맷의 텍스트 데이터에서 {info_keys_str} key의 value 값을 바탕으로 아래에 주어진 key 값들에 대한 value 값을 채워주세요. 단, 모를 경우 \\\"null\\\"을 넣어주세요.\\n- `tech_stack`: Input Data를 기반으로 유추하거나 추출한 개발에 사용되는 기술의 모음입니다. 해당 key의 value는 항상 영단어로 이루어진 list여야 합니다.\\n- `job_requirements`: Input data를 기반으로 유추한 직무의 요구사항입니다. 결과는 한글로 된 열 개 단어 이하인 문장 또는 단어이며, list 포맷으로 제시됩니다.\\n- `job_prefer`: Input data를 기반으로 유추한 직무의 우대사항입니다. 결과는 한글로 된 열 개 단어 이하의 문장 또는 단어이며, list 포맷으로 제시됩니다.\\n- `job_category`: Input Data를 기반으로 유추한 직무(position) 분류 입니다. 결과는 영단어로 이루어진 list여야 합니다.\\n- `indurstry_type`: Input Data에서 유추한 직무의 산업 분류입니다. value 값은 영단어로 이루어진 list여야 합니다.\\n- `required_career`: Input Data에서 경력을 요구유무를 나타냅니다. 경력일 경우 `True` BOOLEAN값을, 신입일 경우 `False` BOOLEAN값을 넣어주세요.\\n[Input Data]\\n{input_data}\"\n",
    "response = chat_session.send_message(input_text)\n",
    "\n",
    "print(response.text)"
   ]
  },
  {
   "cell_type": "code",
   "execution_count": 35,
   "metadata": {},
   "outputs": [
    {
     "name": "stdout",
     "output_type": "stream",
     "text": [
      "```json\n",
      "{\n",
      "  \"tech_stack\": [\n",
      "    \"Java\",\n",
      "    \"BXM Framework\"\n",
      "  ],\n",
      "  \"job_requirements\": [\n",
      "    \"융자업무 관련 경험\"\n",
      "  ],\n",
      "  \"job_prefer\": [\n",
      "    \"null\"\n",
      "  ],\n",
      "  \"job_category\": [\n",
      "    \"Software Development\",\n",
      "    \"Application Development\"\n",
      "  ],\n",
      "  \"indurstry_type\": [\n",
      "    \"Software Development\",\n",
      "    \"IT Consulting\",\n",
      "    \"Financial Technology\"\n",
      "  ]\n",
      "}\n",
      "```\n"
     ]
    }
   ],
   "source": [
    "# jobkorea propmt\n",
    "\n",
    "info_keys = [\"indurstry_type\", \"job_title\", \"job_category\", \"job_tasks\", \"stacks\"]\n",
    "info_keys_str = ', '.join(info_keys)\n",
    "input_data = str(jobkorea_data[3])\n",
    "input_text = f\"[문맥]\\n당신은 IT-Software 전문 도메인을 가진 데이터 전문가입니다. 주어진 json형태의 데이터에서 필요한 데이터를 추출하거나 요약하는 임무를 맡았습니다.\\n[Instruction]\\nInput Data에서 주어진 json 데이터에서 {info_keys_str} key의 값을 바탕으로 아래에 주어진 key 값들에 대한 value 값을 채워주세요. 단, 모를 경우 \\\"null\\\"을 넣어주세요. \\n- `tech_stack`: Input Data를 기반으로 유추하거나 추출한 개발에 사용되는 기술의 모음입니다. 결과는 항상 영단어로 이루어진 list여야 합니다.\\n- `job_requirements`: Input data를 기반으로 유추한 직무의 요구사항입니다. 결과는 한글로 된 열 개 단어 이하인 문장 또는 단어이며, list 포맷으로 제시됩니다.\\n- `job_prefer`: Input data를 기반으로 유추한 직무의 우대사항입니다. 결과는 한글로 된 열 개 단어 이하의 문장 또는 단어이며, list 포맷으로 제시됩니다.\\n- `job_category`: Input Data를 기반으로 유추한 직무(position) 분류 입니다. 결과는 영단어로 이루어진 list여야 합니다.\\n- `indurstry_type`: Input Data의 직무의 산업 분류입니다. 결과는 영단어로 이루어진 list여야 합니다.\\n[Input Data]\\n{input_data}\"\n",
    "response = chat_session.send_message(input_text)\n",
    "\n",
    "print(response.text)"
   ]
  },
  {
   "cell_type": "code",
   "execution_count": null,
   "metadata": {},
   "outputs": [],
   "source": []
  }
 ],
 "metadata": {
  "kernelspec": {
   "display_name": ".venv",
   "language": "python",
   "name": "python3"
  },
  "language_info": {
   "codemirror_mode": {
    "name": "ipython",
    "version": 3
   },
   "file_extension": ".py",
   "mimetype": "text/x-python",
   "name": "python",
   "nbconvert_exporter": "python",
   "pygments_lexer": "ipython3",
   "version": "3.11.0rc1"
  }
 },
 "nbformat": 4,
 "nbformat_minor": 2
}
