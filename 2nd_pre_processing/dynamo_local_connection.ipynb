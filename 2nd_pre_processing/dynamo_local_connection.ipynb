{
 "cells": [
  {
   "cell_type": "code",
   "execution_count": 1,
   "metadata": {},
   "outputs": [],
   "source": [
    "import json, boto3, logging\n",
    "from botocore.exceptions import ClientError"
   ]
  },
  {
   "cell_type": "code",
   "execution_count": 2,
   "metadata": {},
   "outputs": [],
   "source": [
    "with open(\"./.KEYS/API_KEYS.json\", \"r\") as f:\n",
    "    key = json.load(f)\n",
    "\n",
    "# S3 버킷 정보 get\n",
    "with open(\"./.KEYS/DATA_SRC_INFO.json\", \"r\") as f:\n",
    "    bucket_info = json.load(f)"
   ]
  },
  {
   "cell_type": "code",
   "execution_count": 3,
   "metadata": {},
   "outputs": [],
   "source": [
    "dynamo_table_name = bucket_info['restore_table_name']"
   ]
  },
  {
   "cell_type": "code",
   "execution_count": 4,
   "metadata": {},
   "outputs": [],
   "source": [
    "dynamodb = boto3.resource(\n",
    "        'dynamodb',\n",
    "        aws_access_key_id=key['aws_access_key_id'],\n",
    "        aws_secret_access_key=key['aws_secret_key'],\n",
    "        region_name=key['region']\n",
    "    )\n",
    "table = dynamodb.Table(dynamo_table_name)"
   ]
  },
  {
   "cell_type": "code",
   "execution_count": 10,
   "metadata": {},
   "outputs": [],
   "source": [
    "scan_kwargs = {}\n",
    "data = []"
   ]
  },
  {
   "cell_type": "code",
   "execution_count": 11,
   "metadata": {},
   "outputs": [],
   "source": [
    "# Pagination을 고려하여 모든 데이터를 가져오기\n",
    "while True:\n",
    "    response = table.scan(**scan_kwargs)\n",
    "    data.extend(response.get('Items', []))\n",
    "    scan_kwargs['ExclusiveStartKey'] = response.get('LastEvaluatedKey', None)\n",
    "    if not scan_kwargs['ExclusiveStartKey']:\n",
    "        break"
   ]
  },
  {
   "cell_type": "code",
   "execution_count": 19,
   "metadata": {},
   "outputs": [
    {
     "data": {
      "text/plain": [
       "{'company_id': Decimal('3257'),\n",
       " 'site_symbol': 'WAN',\n",
       " 'job_title': 'Software Engineer',\n",
       " 'job_prefer': '클래스101에서 사용하고 있는 기술에 익숙하시다면 빠른 적응에 도움이 됩니다. React, React Native, TypeScript, GraphQL, Apollo Node.js, Apollo Federation, MongoDB Java, Kotlin, Spring Boot, JPA, Aurora Kafka, Redis, Kubernetes',\n",
       " 'crawl_url': 'https://www.wanted.co.kr/wd/105598',\n",
       " 'end_date': None,\n",
       " 'job_id': Decimal('105598'),\n",
       " 'crawl_domain': 'www.wanted.co.kr',\n",
       " 'company_name': '클래스101(Class101)',\n",
       " 'get_date': Decimal('1724605651'),\n",
       " 'job_tasks': '클래스101의 다양한 서비스를 설계, 개발하고 운영합니다. Discovery 클래스메이트가 온라인 클래스, 준비물, 전자책, 크리에이터, 커뮤니티 등 클래스101이 가진 모든 콘텐츠 중 원하는 것을 쉽게 발견할 수 있도록 분류, 추천 및 검색 경험을 개선합니다. Learning Experience 다양한 환경에서 영상 콘텐츠를 실시간으로 스트리밍하고, 다른 클래스메이트들 혹은 크리에이터와 직접 소통하는 커뮤니티를 만들고, 수강률과 잔존율을 높이는 제품 실험을 진행하는 등 구매 이후의 경험을 책임집니다. Creator 크리에이터가 자유롭게 콘텐츠를 만들고, 클래스메이트들과 소통하고, 수익을 극대화할 수 있도록 다양한 제품을 만듭니다. Commerce 실물 및 비실물 상품의 단건 결제와 구독 결제, 주문 처리, 재고 관리와 배송, 정산과 세금 계산까지를 아우르는 온라인 마켓플레이스 플랫폼을 구축합니다. Core 인증, 알림, 실험 등 클래스101 제품의 기반 기능들을 만들고 발전시켜 지속적이고 확장 가능한 성장을 할 수 있도록 돕습니다. B2B 클래스101의 콘텐츠들을 기업 교육 및 복지에 사용할 수 있도록 학습 및 계약 관리 시스템을 구축합니다. 담당하는 클래스101의 제품 도메인을 이해하고, 확장 및 관리가 용이하도록 단계적으로 마이그레이션합니다. 채용 형태 정규직 수습 3개월 주의사항 이력서에 사진을 첨부하지 않습니다. 평가와 관련이 없습니다. 모든 첨부파일은 PDF로 업로드 부탁드립니다.',\n",
       " 'id': Decimal('540114830'),\n",
       " 'job_requirements': '소프트웨어 개발 경력 3년 이상 혹은 그에 준하는 실력을 갖추신 분 비지니스 요건을 빠르게 이해하고 능숙하게 데이터 모델과 API를 디자인 할 수 있는 분 팀원에게 자신의 지식을 전할 수 있는 의사소통 능력을 가지신 분 비즈니스 상황에 맞는 최선의 기술을 선택할 수 있는 분 코드에 대해서 토론하기를 즐기는 분'}"
      ]
     },
     "execution_count": 19,
     "metadata": {},
     "output_type": "execute_result"
    }
   ],
   "source": [
    "data[0]"
   ]
  },
  {
   "cell_type": "code",
   "execution_count": null,
   "metadata": {},
   "outputs": [],
   "source": []
  }
 ],
 "metadata": {
  "kernelspec": {
   "display_name": ".venv",
   "language": "python",
   "name": "python3"
  },
  "language_info": {
   "codemirror_mode": {
    "name": "ipython",
    "version": 3
   },
   "file_extension": ".py",
   "mimetype": "text/x-python",
   "name": "python",
   "nbconvert_exporter": "python",
   "pygments_lexer": "ipython3",
   "version": "3.11.0rc1"
  }
 },
 "nbformat": 4,
 "nbformat_minor": 2
}
