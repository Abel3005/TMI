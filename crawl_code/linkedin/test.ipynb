{
 "cells": [
  {
   "cell_type": "code",
   "execution_count": 1,
   "metadata": {},
   "outputs": [],
   "source": [
    "from selenium import webdriver\n",
    "driver = webdriver.Chrome()"
   ]
  },
  {
   "cell_type": "code",
   "execution_count": 3,
   "metadata": {},
   "outputs": [
    {
     "data": {
      "text/plain": [
       "['BINARY_LOCATION_ERROR',\n",
       " 'KEY',\n",
       " '__abstractmethods__',\n",
       " '__class__',\n",
       " '__delattr__',\n",
       " '__dict__',\n",
       " '__dir__',\n",
       " '__doc__',\n",
       " '__eq__',\n",
       " '__format__',\n",
       " '__ge__',\n",
       " '__getattribute__',\n",
       " '__gt__',\n",
       " '__hash__',\n",
       " '__init__',\n",
       " '__init_subclass__',\n",
       " '__le__',\n",
       " '__lt__',\n",
       " '__module__',\n",
       " '__ne__',\n",
       " '__new__',\n",
       " '__reduce__',\n",
       " '__reduce_ex__',\n",
       " '__repr__',\n",
       " '__setattr__',\n",
       " '__sizeof__',\n",
       " '__str__',\n",
       " '__subclasshook__',\n",
       " '__weakref__',\n",
       " '_abc_impl',\n",
       " '_arguments',\n",
       " '_binary_location',\n",
       " '_caps',\n",
       " '_debugger_address',\n",
       " '_experimental_options',\n",
       " '_extension_files',\n",
       " '_extensions',\n",
       " '_ignore_local_proxy',\n",
       " '_proxy',\n",
       " 'accept_insecure_certs',\n",
       " 'add_argument',\n",
       " 'add_encoded_extension',\n",
       " 'add_experimental_option',\n",
       " 'add_extension',\n",
       " 'arguments',\n",
       " 'binary_location',\n",
       " 'browser_version',\n",
       " 'capabilities',\n",
       " 'debugger_address',\n",
       " 'default_capabilities',\n",
       " 'enable_bidi',\n",
       " 'enable_downloads',\n",
       " 'enable_mobile',\n",
       " 'experimental_options',\n",
       " 'extensions',\n",
       " 'ignore_local_proxy_environment_variables',\n",
       " 'mobile_options',\n",
       " 'page_load_strategy',\n",
       " 'platform_name',\n",
       " 'proxy',\n",
       " 'set_capability',\n",
       " 'set_window_rect',\n",
       " 'strict_file_interactability',\n",
       " 'timeouts',\n",
       " 'to_capabilities',\n",
       " 'unhandled_prompt_behavior',\n",
       " 'web_socket_url']"
      ]
     },
     "execution_count": 3,
     "metadata": {},
     "output_type": "execute_result"
    }
   ],
   "source": [
    "dir(webdriver.ChromeOptions())"
   ]
  },
  {
   "cell_type": "code",
   "execution_count": null,
   "metadata": {},
   "outputs": [],
   "source": [
    "webdriver.Chrome()"
   ]
  }
 ],
 "metadata": {
  "kernelspec": {
   "display_name": "base",
   "language": "python",
   "name": "python3"
  },
  "language_info": {
   "codemirror_mode": {
    "name": "ipython",
    "version": 3
   },
   "file_extension": ".py",
   "mimetype": "text/x-python",
   "name": "python",
   "nbconvert_exporter": "python",
   "pygments_lexer": "ipython3",
   "version": "3.10.14"
  }
 },
 "nbformat": 4,
 "nbformat_minor": 2
}
