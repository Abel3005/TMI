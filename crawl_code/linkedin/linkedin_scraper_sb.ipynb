{
 "cells": [
  {
   "cell_type": "code",
   "execution_count": 8,
   "metadata": {},
   "outputs": [],
   "source": [
    "from scrapers import LinkedIn\n",
    "from selenium.webdriver.support.ui import WebDriverWait\n",
    "from selenium.webdriver.support import expected_conditions as EC\n",
    "from selenium.webdriver.common.by import By\n",
    "import json\n",
    "with open(\"./linkedin_api_secrets.json\", \"r\") as f:\n",
    "    identity = json.load(f)\n",
    "linkedin = LinkedIn()"
   ]
  },
  {
   "cell_type": "code",
   "execution_count": 10,
   "metadata": {},
   "outputs": [
    {
     "name": "stdout",
     "output_type": "stream",
     "text": [
      "사용자가 다음 URL에 방문하여 인증 코드를 얻으세요:\n",
      "https://www.linkedin.com/oauth/v2/authorization?response_type=code&client_id=86vvye8dg34804&redirect_uri=http%3A//127.0.0.1%3A8000/auth/callback&scope=r_liteprofile%20r_emailaddress%20w_member_social\n"
     ]
    }
   ],
   "source": [
    "import urllib.parse\n",
    "\n",
    "client_id, client_secret = identity['client_id'], identity['primary_client_secret']\n",
    "redirect_uri = identity['redirect_uri']\n",
    "scope = 'r_liteprofile r_emailaddress w_member_social'  # 필요한 권한 범위\n",
    "\n",
    "auth_url = (\n",
    "    f\"https://www.linkedin.com/oauth/v2/authorization?\"\n",
    "    f\"response_type=code&\"\n",
    "    f\"client_id={client_id}&\"\n",
    "    f\"redirect_uri={urllib.parse.quote(redirect_uri)}&\"\n",
    "    f\"scope={urllib.parse.quote(scope)}\"\n",
    ")\n",
    "print(\"사용자가 다음 URL에 방문하여 인증 코드를 얻으세요:\")\n",
    "print(auth_url)"
   ]
  },
  {
   "cell_type": "code",
   "execution_count": 2,
   "metadata": {},
   "outputs": [
    {
     "name": "stdout",
     "output_type": "stream",
     "text": [
      "Login attempt result: False\n"
     ]
    }
   ],
   "source": []
  },
  {
   "cell_type": "code",
   "execution_count": 5,
   "metadata": {},
   "outputs": [
    {
     "name": "stdout",
     "output_type": "stream",
     "text": [
      "{'geo_id': {'South Korea': 105149562}, 'f_TPR': {'P24h': 'r86400', 'Pweek': 'r604800', 'Pmonth': 'r2592000'}, 'f_E': {'Internship': 1, 'Entry level': 2, 'Associate': 3, 'Mid-Senior level': 4, 'Director': 5, 'Executive': 6}, 'f_WT': {'Remote': 1, 'On-site': 2, 'Hybrid': 3}, 'sort_type': {'recent': 'DD', 'relevant': 'R'}, 'f_F': {'IT': 'it', 'Sale': 'sale', 'Engineering': 'eng', 'Business Development': 'bd', 'Other': 'othr', 'Marketing': 'mrkt', 'Management': 'mgmt', 'Manufacturing': 'mnfc', 'Finance': 'fin', 'Research': 'rsch', 'Product Management': 'prdm'}, 'f_I': {'IT servcie': 96, 'SW': 4, 'Internet': 6, 'Finance': 43, 'Retail': 27, 'Recruit': 104, 'Pharamaceutical': 15, 'Motor Vehicle': 53, 'Semiconductor': 7, 'BioTech': 12, 'Manufacturing': 25}}\n"
     ]
    }
   ],
   "source": [
    "with open(\"./metadata.config\") as f:\n",
    "    metadata = json.load(f)\n",
    "print(metadata[\"keyword\"])"
   ]
  }
 ],
 "metadata": {
  "kernelspec": {
   "display_name": "base",
   "language": "python",
   "name": "python3"
  },
  "language_info": {
   "codemirror_mode": {
    "name": "ipython",
    "version": 3
   },
   "file_extension": ".py",
   "mimetype": "text/x-python",
   "name": "python",
   "nbconvert_exporter": "python",
   "pygments_lexer": "ipython3",
   "version": "3.11.9"
  }
 },
 "nbformat": 4,
 "nbformat_minor": 2
}
