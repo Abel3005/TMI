{
 "cells": [
  {
   "cell_type": "markdown",
   "metadata": {},
   "source": [
    "# Get List"
   ]
  },
  {
   "cell_type": "markdown",
   "metadata": {},
   "source": [
    "## Get Contents"
   ]
  },
  {
   "cell_type": "markdown",
   "metadata": {},
   "source": [
    "## Linked In 접속"
   ]
  },
  {
   "cell_type": "code",
   "execution_count": 1,
   "metadata": {},
   "outputs": [],
   "source": [
    "from scrapers import LinkedIn, DGLogger\n",
    "from selenium.webdriver.support.ui import WebDriverWait\n",
    "from selenium.webdriver.support import expected_conditions as EC\n",
    "from selenium.webdriver.common.by import By\n",
    "import json\n",
    "with open(\"./identity.json\", \"r\") as f:\n",
    "    identity = json.load(f)\n",
    "linkedin = LinkedIn()\n",
    "driver = linkedin.init_selenium()"
   ]
  },
  {
   "cell_type": "markdown",
   "metadata": {},
   "source": [
    "## 채용공고 데이터 가져오기\n",
    "<img style=\"width:85%;height:350px\" src=\"./images/linkedin_index.png\" />\n",
    "\n",
    "**링크드인 채용공고 페이지는 한 페이지에서, 채용공고 리스트와 채용공고 내용을 한번에 보여줌**\n",
    "- GET 방식의 파라미터 값을 채용공고의 Unique한 ID를 받음\n",
    "- 채용공고 리스트를 보여주기 위한 다른 조건을 파라미터 값으로 받음\n",
    "  - JobID가 주어지지 않을 경우, 조건값에 따른 공고 리스트를 임의의 규칙에 따라 정렬된 리스트 중 하나의 값을 받음\n",
    "  - 규칙은 JobID에 따른 것이 아님\n",
    "  - 기본적으로 로그인한 회원의 정보에 따라서 파라미터 값을 받음\n",
    "    - ex) 지역코드를 입력하지 않으면, 회원이 있는 지역의 공고를 보여줌\n",
    "\n",
    "**조건 값에 종류가 채용공고에 나타나 있지 않음**\n",
    "- 조건 값에 따른 채용공고 정보를 알기 위해서는 리스트를 출력하여야 한다.\n",
    "- 모든 데이터를 수집하기 위해서는 각각의 파라미터 값을 출력하는 것이 필요\n",
    "  "
   ]
  },
  {
   "cell_type": "markdown",
   "metadata": {},
   "source": [
    "### 채용 공고 추출 데이터(Sign in)\n",
    "target_link = \"https://www.linkedin.com/jobs/view/{job_id}/\"  "
   ]
  },
  {
   "cell_type": "code",
   "execution_count": 4,
   "metadata": {},
   "outputs": [
    {
     "data": {
      "text/plain": [
       "False"
      ]
     },
     "execution_count": 4,
     "metadata": {},
     "output_type": "execute_result"
    }
   ],
   "source": [
    "# identity\n",
    "_email = identity[\"_email\"]\n",
    "_pw = identity[\"_pw\"]\n",
    "linkedin.login_linkedin(f\"{_email}\",f\"{_pw}\")"
   ]
  },
  {
   "cell_type": "code",
   "execution_count": 3,
   "metadata": {},
   "outputs": [],
   "source": [
    "import re\n",
    "from datetime import datetime, timedelta\n",
    "\n",
    "job_id = 3980762432\n",
    "contents[\"job_id\"] = job_id\n",
    "target_link= f\"https://www.linkedin.com/jobs/view/{job_id}/\"\n",
    "driver.get(target_link)\n",
    "# Title\n",
    "_list = driver.find_elements(By.CSS_SELECTOR,\"h1\")\n",
    "\n",
    "# error \n",
    "if len(_list) != 1:\n",
    "    print(\"error\")\n",
    "contents = {}\n",
    "\n",
    "contents[\"title\"] = _list[0].text    \n",
    "#overview\n",
    "overview = driver.find_element(By.CSS_SELECTOR,\".mt2.mb2\").text.split('\\n')\n",
    "contents['wr'] = overview[0]\n",
    "contents['etc']= \";\".join(overview[1:])\n",
    "\n",
    "#tech stack\n",
    "#modal up\n",
    "from selenium.webdriver.support.ui import WebDriverWait\n",
    "from selenium.webdriver.support import expected_conditions as EC\n",
    "\n",
    "driver.find_elements(By.CSS_SELECTOR, \"button.mv5.t-16\")[0].click()\n",
    "WebDriverWait(driver,3).until(EC.presence_of_element_located((By.CSS_SELECTOR,\".job-details-skill-match-status-list__unmatched-skill\")))\n",
    "_list = driver.find_elements(By.CSS_SELECTOR,\".job-details-skill-match-status-list__unmatched-skill\")\n",
    "tech_stacks = []\n",
    "for i in _list:\n",
    "    _str = i.text \n",
    "    tech_stacks.append(_str[:_str.find(\"\\n\")])\n",
    "#modal down\n",
    "driver.find_elements(By.CSS_SELECTOR,\".artdeco-button.artdeco-button--circle.artdeco-button--muted.artdeco-button--2.artdeco-button--tertiary.ember-view.artdeco-modal__dismiss\")[0].click()\n",
    "tech_stacks = \";\".join(tech_stacks)\n",
    "contents['tech_stacks'] = tech_stacks\n",
    "\n",
    "WebDriverWait(driver,3).until(EC.presence_of_element_located((By.CSS_SELECTOR,\".job-details-jobs-unified-top-card__primary-description-container\")))\n",
    "contents[\"geo\"],_,apt = driver.find_element(By.CSS_SELECTOR,\".job-details-jobs-unified-top-card__primary-description-container\").text.split(\"·\")\n",
    "contents[\"apt\"]= int(re.compile(\"[0-9]+\").findall(apt)[0])\n",
    "driver.find_element(By.CSS_SELECTOR,\".jobs-description__footer-button.t-14.t-black--light.t-bold.artdeco-card__action.artdeco-button.artdeco-button--icon-right.artdeco-button--3.artdeco-button--fluid.artdeco-button--tertiary.ember-view\").click()\n",
    "WebDriverWait(driver,3).until(EC.presence_of_element_located((By.CSS_SELECTOR,\".jobs-box--fadein.jobs-box--full-width.jobs-box--with-cta-large.jobs-description.artdeco-card.jobs-poster--is-expanded-redesign.mt4\")))\n",
    "contents['content'] = driver.find_element(By.CSS_SELECTOR,\"#job-details > div.mt4\").text\n",
    "driver.find_element(By.CSS_SELECTOR,\".jobs-description__footer-button.t-14.t-black--light.t-bold.artdeco-card__action.artdeco-button.artdeco-button--icon-right.artdeco-button--3.artdeco-button--fluid.artdeco-button--tertiary.ember-view\").click()\n",
    "WebDriverWait(driver,3).until(EC.presence_of_all_elements_located((By.CSS_SELECTOR,\".jobs-box--fadein.jobs-box--full-width.jobs-box--with-cta-large.jobs-description.jobs-description--is-truncated.jobs-description--is-truncated-poster.artdeco-card.mt4\")))\n",
    "contents['get_date'] = datetime.today().strftime(\"%Y-%m-%d_%H:%M:%s\")\n",
    "#company\n",
    "contents['company']= driver.find_element(By.CSS_SELECTOR,\".ember-view.link-without-visited-state.inline-block.t-black\").text"
   ]
  },
  {
   "cell_type": "code",
   "execution_count": 4,
   "metadata": {},
   "outputs": [
    {
     "data": {
      "text/plain": [
       "{'title': 'English Teacher',\n",
       " 'wr': 'On-site Full-time',\n",
       " 'etc': 'Skills: English Teaching, Teaching English as a Foreign Language, +5 more;Applicant review time is typically 4 days;Learn more;See how you compare to over 100 other applicants. Try Premium for ₩0',\n",
       " 'tech_stacks': 'Business English;English Teaching;English as a Second Language (ESL);Language Teaching;Teaching;Teaching English as a Foreign Language;Teaching English as a Second Language',\n",
       " 'geo': 'Seoul, South Korea ',\n",
       " 'apt': 100,\n",
       " 'content': \"We are seeking a highly motivated and dedicated English Language Teacher who is eager to embark on an exciting career abroad. The ideal candidate will possess a genuine passion for teaching English and the ability to inspire students to reach their full potential.\\n\\nIf you are passionate about teaching English and eager to embark on a new and exciting career abroad, we encourage you to apply for this position.\\n\\nWe offer competitive compensation packages, professional development opportunities, and a supportive work environment that values diversity, inclusivity, and excellence in education.\\n\\nWe also encourage freshers to apply.\\n\\nRequirements:\\nHolds a 4-year bachelor's degree\\nHas a clean national criminal record\\nPass a health and drug test\\n\\nDetails:\\nStarting Date: Early September., 2024\\nTeaching Date: Mon thru Fri\\nSchool Hour: 8:30 Am ~ 5:30 Pm\\nStudent Level: Kindy + Elementary\\nSalary: 2.4 Million Won ($1,700+) (Negotiable)\\nVacation days : 11 days plus red days.\\nHousing: One room furnished or Housing Allowance\\nBenefit: Airfare, Severance Pay, Health Insurance, National Pension\\n\\nWe are committed to supporting all applicants throughout the application process and providing help as needed.\\n\\nESL Teaching is proud to be an Equal Opportunity Employer. We do not discriminate based on race, religion, color, national origin, sex (including pregnancy, childbirth, or related medical conditions), sexual orientation, gender, gender identity, gender expression, transgender status, sexual stereotypes, age, status as a protected veteran, status as an individual with a disability, or other applicable legally protected characteristics.\",\n",
       " 'get_date': '2024-08-02_16:20:1722583221',\n",
       " 'company': 'ESL Teaching Jobs'}"
      ]
     },
     "execution_count": 4,
     "metadata": {},
     "output_type": "execute_result"
    }
   ],
   "source": [
    "contents"
   ]
  },
  {
   "cell_type": "markdown",
   "metadata": {},
   "source": [
    "## 추출 데이터 형식(로그인 X)\n",
    "\n",
    "1. 채용공고 제목\n",
    "2. 회사\n",
    "3. 내용\n",
    "4. 전문성\n",
    "5. 근무형태\n",
    "6. 직무 분야\n",
    "7. 산업"
   ]
  },
  {
   "cell_type": "code",
   "execution_count": 5,
   "metadata": {},
   "outputs": [],
   "source": [
    "from crawl_code.linkedin.scrapers import logout_linkedin\n",
    "\n",
    "logout_linkedin(driver)"
   ]
  },
  {
   "cell_type": "code",
   "execution_count": 6,
   "metadata": {},
   "outputs": [],
   "source": [
    "job_id = 3980762432\n",
    "target_link= f\"https://www.linkedin.com/jobs/view/{job_id}/\"\n",
    "driver.get(target_link)\n",
    "_list = driver.find_elements(By.CSS_SELECTOR,\"li.description__job-criteria-item\")\n",
    "contents[\"jf\"] = _list[2].text[_list[2].text.find(\"\\n\")+1:]\n",
    "contents[\"industry\"] = _list[3].text[_list[3].text.find(\"\\n\")+1:]"
   ]
  },
  {
   "cell_type": "code",
   "execution_count": 10,
   "metadata": {},
   "outputs": [
    {
     "data": {
      "text/plain": [
       "{'title': 'English Teacher',\n",
       " 'wr': 'On-site Full-time',\n",
       " 'etc': 'Skills: English Teaching, Teaching English as a Foreign Language, +5 more;Applicant review time is typically 4 days;Learn more;See how you compare to over 100 other applicants. Try Premium for ₩0',\n",
       " 'tech_stacks': 'Business English;English Teaching;English as a Second Language (ESL);Language Teaching;Teaching;Teaching English as a Foreign Language;Teaching English as a Second Language',\n",
       " 'geo': 'Seoul, South Korea ',\n",
       " 'apt': 100,\n",
       " 'content': \"We are seeking a highly motivated and dedicated English Language Teacher who is eager to embark on an exciting career abroad. The ideal candidate will possess a genuine passion for teaching English and the ability to inspire students to reach their full potential.\\n\\nIf you are passionate about teaching English and eager to embark on a new and exciting career abroad, we encourage you to apply for this position.\\n\\nWe offer competitive compensation packages, professional development opportunities, and a supportive work environment that values diversity, inclusivity, and excellence in education.\\n\\nWe also encourage freshers to apply.\\n\\nRequirements:\\nHolds a 4-year bachelor's degree\\nHas a clean national criminal record\\nPass a health and drug test\\n\\nDetails:\\nStarting Date: Early September., 2024\\nTeaching Date: Mon thru Fri\\nSchool Hour: 8:30 Am ~ 5:30 Pm\\nStudent Level: Kindy + Elementary\\nSalary: 2.4 Million Won ($1,700+) (Negotiable)\\nVacation days : 11 days plus red days.\\nHousing: One room furnished or Housing Allowance\\nBenefit: Airfare, Severance Pay, Health Insurance, National Pension\\n\\nWe are committed to supporting all applicants throughout the application process and providing help as needed.\\n\\nESL Teaching is proud to be an Equal Opportunity Employer. We do not discriminate based on race, religion, color, national origin, sex (including pregnancy, childbirth, or related medical conditions), sexual orientation, gender, gender identity, gender expression, transgender status, sexual stereotypes, age, status as a protected veteran, status as an individual with a disability, or other applicable legally protected characteristics.\",\n",
       " 'get_date': '2024-08-02_16:20:1722583221',\n",
       " 'company': 'ESL Teaching Jobs',\n",
       " 'jf': 'Education and Training',\n",
       " 'industry': 'Human Resources Services'}"
      ]
     },
     "execution_count": 10,
     "metadata": {},
     "output_type": "execute_result"
    }
   ],
   "source": [
    "contents"
   ]
  },
  {
   "cell_type": "code",
   "execution_count": 42,
   "metadata": {},
   "outputs": [],
   "source": [
    "import requests\n",
    "from bs4 import BeautifulSoup\n",
    "data = {\"user-agent\":\"Mozilla/5.0 (Windows NT 10.0; Win64; x64) AppleWebKit/537.36 (KHTML, like Gecko) Chrome/127.0.0.0 Safari/537.36\"}\n",
    "soup = BeautifulSoup(requests.get(\"https://www.linkedin.com/jobs/view/3990451742/\",data=data).text)"
   ]
  },
  {
   "cell_type": "code",
   "execution_count": 56,
   "metadata": {},
   "outputs": [],
   "source": [
    "import json\n",
    "_dict = json.loads(soup.find('script',attrs={\"type\":\"application/ld+json\"}).text)\n",
    "expr=[]\n",
    "if \"educationRequirements\" in  _dict:\n",
    "    expr.append(_dict[\"educationRequirements\"]['credentialCategory'])\n",
    "if \"experienceRequirements\" in _dict:\n",
    "    expr.append(str(_dict[\"experienceRequirements\"]['monthsOfExperience']) + \" month\")\n",
    "contents[\"reqr\"] = \";\".join(expr)\n",
    "contents['dateposted']= _dict['datePosted']"
   ]
  },
  {
   "cell_type": "code",
   "execution_count": 58,
   "metadata": {},
   "outputs": [
    {
     "data": {
      "text/plain": [
       "{'title': 'English Teacher',\n",
       " 'wr': 'On-site Full-time',\n",
       " 'etc': 'Skills: English Teaching, Teaching English as a Foreign Language, +5 more;Applicant review time is typically 4 days;Learn more;See how you compare to over 100 other applicants. Try Premium for ₩0',\n",
       " 'tech_stacks': 'Business English;English Teaching;English as a Second Language (ESL);Language Teaching;Teaching;Teaching English as a Foreign Language;Teaching English as a Second Language',\n",
       " 'geo': 'Seoul, South Korea ',\n",
       " 'apt': 100,\n",
       " 'content': \"We are seeking a highly motivated and dedicated English Language Teacher who is eager to embark on an exciting career abroad. The ideal candidate will possess a genuine passion for teaching English and the ability to inspire students to reach their full potential.\\n\\nIf you are passionate about teaching English and eager to embark on a new and exciting career abroad, we encourage you to apply for this position.\\n\\nWe offer competitive compensation packages, professional development opportunities, and a supportive work environment that values diversity, inclusivity, and excellence in education.\\n\\nWe also encourage freshers to apply.\\n\\nRequirements:\\nHolds a 4-year bachelor's degree\\nHas a clean national criminal record\\nPass a health and drug test\\n\\nDetails:\\nStarting Date: Early September., 2024\\nTeaching Date: Mon thru Fri\\nSchool Hour: 8:30 Am ~ 5:30 Pm\\nStudent Level: Kindy + Elementary\\nSalary: 2.4 Million Won ($1,700+) (Negotiable)\\nVacation days : 11 days plus red days.\\nHousing: One room furnished or Housing Allowance\\nBenefit: Airfare, Severance Pay, Health Insurance, National Pension\\n\\nWe are committed to supporting all applicants throughout the application process and providing help as needed.\\n\\nESL Teaching is proud to be an Equal Opportunity Employer. We do not discriminate based on race, religion, color, national origin, sex (including pregnancy, childbirth, or related medical conditions), sexual orientation, gender, gender identity, gender expression, transgender status, sexual stereotypes, age, status as a protected veteran, status as an individual with a disability, or other applicable legally protected characteristics.\",\n",
       " 'get_date': '2024-08-02_16:20:1722583221',\n",
       " 'company': 'ESL Teaching Jobs',\n",
       " 'jf': 'Education and Training',\n",
       " 'industry': 'Human Resources Services',\n",
       " 'reqr': 'associate degree;60 month',\n",
       " 'dateposted': '2024-08-01T22:57:14.000Z'}"
      ]
     },
     "execution_count": 58,
     "metadata": {},
     "output_type": "execute_result"
    }
   ],
   "source": [
    "contents"
   ]
  },
  {
   "cell_type": "code",
   "execution_count": null,
   "metadata": {},
   "outputs": [],
   "source": []
  }
 ],
 "metadata": {
  "kernelspec": {
   "display_name": "crawler",
   "language": "python",
   "name": "python3"
  },
  "language_info": {
   "codemirror_mode": {
    "name": "ipython",
    "version": 3
   },
   "file_extension": ".py",
   "mimetype": "text/x-python",
   "name": "python",
   "nbconvert_exporter": "python",
   "pygments_lexer": "ipython3",
   "version": "3.11.9"
  }
 },
 "nbformat": 4,
 "nbformat_minor": 2
}
