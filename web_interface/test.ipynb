{
 "cells": [
  {
   "cell_type": "code",
   "execution_count": null,
   "metadata": {},
   "outputs": [],
   "source": [
    "import pandas as pd\n",
    "from sqlalchemy import create_engine\n",
    "import json"
   ]
  },
  {
   "cell_type": "code",
   "execution_count": null,
   "metadata": {},
   "outputs": [],
   "source": [
    "%pwd"
   ]
  },
  {
   "cell_type": "code",
   "execution_count": null,
   "metadata": {},
   "outputs": [],
   "source": [
    "config_path='.aws/credentials.json'\n",
    "with open(config_path, 'r') as f:\n",
    "    credentials = json.load(f)\n",
    "user = credentials.get(\"USER\")\n",
    "password = credentials.get(\"AWS_SECRET_KEY\")\n",
    "host = credentials.get(\"ENDPOINT\")\n",
    "port = credentials.get(\"PORT\")\n",
    "database = credentials.get(\"DBNAME\")\n",
    "connection_string = f\"mysql+pymysql://{user}:{password}@{host}:{port}/{database}\"\n",
    "engine = create_engine(connection_string)"
   ]
  },
  {
   "cell_type": "code",
   "execution_count": null,
   "metadata": {},
   "outputs": [],
   "source": [
    "query = \"CREATE DATABASE streamlit\"\n",
    "try:\n",
    "    with engine.connect() as connection:\n",
    "        df = pd.read_sql(query, connection)\n",
    "except Exception as e:\n",
    "    print(f\"Exception occurred : {e}\")"
   ]
  },
  {
   "cell_type": "code",
   "execution_count": null,
   "metadata": {},
   "outputs": [],
   "source": []
  }
 ],
 "metadata": {
  "kernelspec": {
   "display_name": "venv",
   "language": "python",
   "name": "python3"
  },
  "language_info": {
   "codemirror_mode": {
    "name": "ipython",
    "version": 3
   },
   "file_extension": ".py",
   "mimetype": "text/x-python",
   "name": "python",
   "nbconvert_exporter": "python",
   "pygments_lexer": "ipython3",
   "version": "3.11.9"
  }
 },
 "nbformat": 4,
 "nbformat_minor": 2
}
