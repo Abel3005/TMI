{
 "cells": [
  {
   "cell_type": "code",
   "execution_count": 2,
   "metadata": {},
   "outputs": [],
   "source": [
    "import pandas as pd\n",
    "from sqlalchemy import create_engine\n",
    "import json\n",
    "from utils import Logger\n",
    "logger = Logger()\n",
    "\n",
    "import boto3\n",
    "from botocore.session import Session"
   ]
  },
  {
   "cell_type": "code",
   "execution_count": null,
   "metadata": {},
   "outputs": [],
   "source": [
    "def get_rds_secret(config:dict)->str:\n",
    "    secret_name = config.get(\"SECRET_NAME\")\n",
    "    region_name = config.get(\"REGION\")\n",
    "    \n",
    "    session = Session(\n",
    "        aws_access_key_id=config.get(\"AWS_ACCESS_KEY_ID\"),\n",
    "        aws_secret_access_key=config.get(\"AWS_SECRET_KEY\"),\n",
    "        region_name=region_name\n",
    "    )\n",
    "    \n",
    "    client = session.client(\n",
    "        service_name='secretsmanager',\n",
    "        region_name=region_name\n",
    "    )\n",
    "    \n",
    "    try:\n",
    "        logger.log(f\"retrieving secret from rds\", name=__name__)\n",
    "        get_secret_value_response = client.get_secret_value(\n",
    "            SecretId=secret_name\n",
    "        )\n",
    "    except Exception as e:\n",
    "        logger.log(f\"Exception occurred while retrieving secret from rds: {e}\", flag=1, name=__name__)\n",
    "        raise e\n",
    "    secret = get_secret_value_response['SecretString']\n",
    "    logger.log(f\"secret:{secret}\",flag=3,name=__name__)\n",
    "    return secret"
   ]
  },
  {
   "cell_type": "code",
   "execution_count": null,
   "metadata": {},
   "outputs": [],
   "source": [
    "config_path='.aws/credentials.json'\n",
    "with open(config_path, 'r') as f:\n",
    "    credentials = json.load(f)\n",
    "user = credentials.get(\"USER\")\n",
    "password = credentials.get(\"AWS_SECRET_KEY\")\n",
    "host = credentials.get(\"ENDPOINT\")\n",
    "port = credentials.get(\"PORT\")\n",
    "database = credentials.get(\"DBNAME\")\n",
    "connection_string = f\"mysql+pymysql://{user}:{password}@{host}:{port}/{database}\"\n",
    "engine = create_engine(connection_string)"
   ]
  },
  {
   "cell_type": "code",
   "execution_count": null,
   "metadata": {},
   "outputs": [],
   "source": [
    "query = \"CREATE DATABASE streamlit\"\n",
    "try:\n",
    "    with engine.connect() as connection:\n",
    "        df = pd.read_sql(query, connection)\n",
    "except Exception as e:\n",
    "    print(f\"Exception occurred : {e}\")"
   ]
  },
  {
   "cell_type": "code",
   "execution_count": null,
   "metadata": {},
   "outputs": [],
   "source": []
  }
 ],
 "metadata": {
  "kernelspec": {
   "display_name": "venv",
   "language": "python",
   "name": "python3"
  },
  "language_info": {
   "codemirror_mode": {
    "name": "ipython",
    "version": 3
   },
   "file_extension": ".py",
   "mimetype": "text/x-python",
   "name": "python",
   "nbconvert_exporter": "python",
   "pygments_lexer": "ipython3",
   "version": "3.11.9"
  }
 },
 "nbformat": 4,
 "nbformat_minor": 2
}
