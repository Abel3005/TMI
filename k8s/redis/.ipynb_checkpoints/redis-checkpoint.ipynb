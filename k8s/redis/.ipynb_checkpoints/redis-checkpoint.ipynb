{
 "cells": [
  {
   "cell_type": "code",
   "execution_count": 5,
   "metadata": {},
   "outputs": [
    {
     "ename": "ModuleNotFoundError",
     "evalue": "No module named 'redis'",
     "output_type": "error",
     "traceback": [
      "\u001b[0;31m---------------------------------------------------------------------------\u001b[0m",
      "\u001b[0;31mModuleNotFoundError\u001b[0m                       Traceback (most recent call last)",
      "\u001b[0;32m/tmp/ipykernel_3750420/791214606.py\u001b[0m in \u001b[0;36m<module>\u001b[0;34m\u001b[0m\n\u001b[1;32m      1\u001b[0m \u001b[0;32mimport\u001b[0m \u001b[0mboto3\u001b[0m\u001b[0;34m\u001b[0m\u001b[0;34m\u001b[0m\u001b[0m\n\u001b[0;32m----> 2\u001b[0;31m \u001b[0;32mimport\u001b[0m \u001b[0mredis\u001b[0m\u001b[0;34m\u001b[0m\u001b[0;34m\u001b[0m\u001b[0m\n\u001b[0m\u001b[1;32m      3\u001b[0m \u001b[0;32mfrom\u001b[0m \u001b[0mbotocore\u001b[0m\u001b[0;34m.\u001b[0m\u001b[0mexceptions\u001b[0m \u001b[0;32mimport\u001b[0m \u001b[0mNoCredentialsError\u001b[0m\u001b[0;34m,\u001b[0m \u001b[0mPartialCredentialsError\u001b[0m\u001b[0;34m\u001b[0m\u001b[0;34m\u001b[0m\u001b[0m\n\u001b[1;32m      4\u001b[0m \u001b[0;32mimport\u001b[0m \u001b[0mjson\u001b[0m\u001b[0;34m\u001b[0m\u001b[0;34m\u001b[0m\u001b[0m\n",
      "\u001b[0;31mModuleNotFoundError\u001b[0m: No module named 'redis'"
     ]
    }
   ],
   "source": [
    "import boto3\n",
    "import redis\n",
    "from botocore.exceptions import NoCredentialsError, PartialCredentialsError\n",
    "import json"
   ]
  },
  {
   "cell_type": "code",
   "execution_count": 7,
   "metadata": {},
   "outputs": [],
   "source": [
    "# DynamoDB 및 Redis 클라이언트 초기화\n",
    "dynamodb = boto3.resource('dynamodb', region_name='ap-northeast-2')\n",
    "table = dynamodb.Table('merged-data-table')\n",
    "\n",
    "# r = redis.StrictRedis(host='221.151.189.183', port=6379, db=0)"
   ]
  },
  {
   "cell_type": "code",
   "execution_count": 24,
   "metadata": {},
   "outputs": [
    {
     "ename": "FileNotFoundError",
     "evalue": "[Errno 2] No such file or directory",
     "output_type": "error",
     "traceback": [
      "\u001b[0;31m---------------------------------------------------------------------------\u001b[0m",
      "\u001b[0;31mFileNotFoundError\u001b[0m                         Traceback (most recent call last)",
      "\u001b[0;32m/tmp/ipykernel_3750420/4054927296.py\u001b[0m in \u001b[0;36m<module>\u001b[0;34m\u001b[0m\n\u001b[1;32m      1\u001b[0m \u001b[0;32mimport\u001b[0m \u001b[0mos\u001b[0m\u001b[0;34m\u001b[0m\u001b[0;34m\u001b[0m\u001b[0m\n\u001b[1;32m      2\u001b[0m \u001b[0;34m\u001b[0m\u001b[0m\n\u001b[0;32m----> 3\u001b[0;31m \u001b[0mos\u001b[0m\u001b[0;34m.\u001b[0m\u001b[0mgetcwd\u001b[0m\u001b[0;34m(\u001b[0m\u001b[0;34m)\u001b[0m\u001b[0;34m\u001b[0m\u001b[0;34m\u001b[0m\u001b[0m\n\u001b[0m",
      "\u001b[0;31mFileNotFoundError\u001b[0m: [Errno 2] No such file or directory"
     ]
    }
   ],
   "source": [
    "import os\n",
    "\n",
    "os.getcwd()"
   ]
  },
  {
   "cell_type": "code",
   "execution_count": 22,
   "metadata": {},
   "outputs": [],
   "source": [
    "def access_keys(path):\n",
    "    with open(f'{path}/', 'r') as f:\n",
    "        key = json.load(f)\n",
    "    return key"
   ]
  },
  {
   "cell_type": "code",
   "execution_count": 8,
   "metadata": {},
   "outputs": [],
   "source": [
    "# DynamoDB에서 id 값을 가져오는 함수\n",
    "def get_ids_from_dynamodb(key):\n",
    "    AWS_ACCESS_KEY = key['aws_access_key_id']\n",
    "    AWS_SECRET_KEY = key['aws_secret_key']\n",
    "    REGION = key['region']\n",
    "    \n",
    "    response = table.scan()  # Scan을 통해 DynamoDB 테이블에서 모든 항목을 가져옴\n",
    "    items = response.get('Items', [])\n",
    "    return [item['id'] for item in items if 'id' in item]  # 'id' 필드만 추출\n",
    "\n",
    "# Redis에 id 값을 저장하는 함수\n",
    "def save_to_redis(ids):\n",
    "    for id_value in ids:\n",
    "        if not r.hexists('compare_id', id_value):  # Redis hash에 해당 id가 없으면\n",
    "            r.hset('compare_id', id_value, 1)  # 해당 id를 해시에 저장\n",
    "            print(f\"새로운 id {id_value}가 Redis에 추가되었습니다.\")\n",
    "        else:\n",
    "            print(f\"id {id_value}는 이미 Redis에 존재합니다.\")"
   ]
  },
  {
   "cell_type": "code",
   "execution_count": 9,
   "metadata": {},
   "outputs": [],
   "source": [
    "def check_dynamodb_connection(key):\n",
    "    AWS_ACCESS_KEY = key['aws_access_key_id']\n",
    "    AWS_SECRET_KEY = key['aws_secret_key']\n",
    "    REGION = key['region']\n",
    "    \n",
    "    try:\n",
    "        dynamodb = boto3.client('dynamodb',\n",
    "            region_name=REGION,\n",
    "            aws_access_key_id=AWS_ACCESS_KEY,\n",
    "            aws_secret_access_key=AWS_SECRET_KEY)\n",
    "        \n",
    "        \n",
    "        # DynamoDB에서 테이블 목록을 가져옴\n",
    "        response = dynamodb.list_tables()\n",
    "        table_names = response.get('TableNames', [])\n",
    "        \n",
    "        if table_names:\n",
    "            print(f\"DynamoDB에 성공적으로 연결되었습니다. 테이블 목록: {table_names}\")\n",
    "        else:\n",
    "            print(\"DynamoDB에 연결되었으나 테이블이 없습니다.\")\n",
    "    except NoCredentialsError:\n",
    "        print(\"AWS 자격 증명이 제공되지 않았습니다. 자격 증명을 확인하세요.\")\n",
    "    except PartialCredentialsError:\n",
    "        print(\"AWS 자격 증명이 불완전합니다. 자격 증명을 확인하세요.\")\n",
    "    except Exception as e:\n",
    "        print(f\"DynamoDB 연결 중 오류가 발생했습니다: {str(e)}\")"
   ]
  },
  {
   "cell_type": "code",
   "execution_count": 10,
   "metadata": {},
   "outputs": [],
   "source": [
    "def main():\n",
    "    path = '/home/team3/repository/keys/'\n",
    "    key = access_keys(path)\n",
    "    #ids = get_ids_from_dynamodb()\n",
    "    check_dynamodb_connection(key)\n",
    "    #save_to_redis(ids)"
   ]
  },
  {
   "cell_type": "code",
   "execution_count": 11,
   "metadata": {},
   "outputs": [
    {
     "ename": "NameError",
     "evalue": "name 'access_keys' is not defined",
     "output_type": "error",
     "traceback": [
      "\u001b[0;31m---------------------------------------------------------------------------\u001b[0m",
      "\u001b[0;31mNameError\u001b[0m                                 Traceback (most recent call last)",
      "\u001b[0;32m/tmp/ipykernel_3750420/3832242952.py\u001b[0m in \u001b[0;36m<module>\u001b[0;34m\u001b[0m\n\u001b[1;32m      1\u001b[0m \u001b[0;32mif\u001b[0m \u001b[0m__name__\u001b[0m \u001b[0;34m==\u001b[0m \u001b[0;34m\"__main__\"\u001b[0m\u001b[0;34m:\u001b[0m\u001b[0;34m\u001b[0m\u001b[0;34m\u001b[0m\u001b[0m\n\u001b[0;32m----> 2\u001b[0;31m     \u001b[0mmain\u001b[0m\u001b[0;34m(\u001b[0m\u001b[0;34m)\u001b[0m\u001b[0;34m\u001b[0m\u001b[0;34m\u001b[0m\u001b[0m\n\u001b[0m",
      "\u001b[0;32m/tmp/ipykernel_3750420/3852011681.py\u001b[0m in \u001b[0;36mmain\u001b[0;34m()\u001b[0m\n\u001b[1;32m      1\u001b[0m \u001b[0;32mdef\u001b[0m \u001b[0mmain\u001b[0m\u001b[0;34m(\u001b[0m\u001b[0;34m)\u001b[0m\u001b[0;34m:\u001b[0m\u001b[0;34m\u001b[0m\u001b[0;34m\u001b[0m\u001b[0m\n\u001b[1;32m      2\u001b[0m     \u001b[0mpath\u001b[0m \u001b[0;34m=\u001b[0m \u001b[0;34m'/home/team3/repository/keys/'\u001b[0m\u001b[0;34m\u001b[0m\u001b[0;34m\u001b[0m\u001b[0m\n\u001b[0;32m----> 3\u001b[0;31m     \u001b[0mkey\u001b[0m \u001b[0;34m=\u001b[0m \u001b[0maccess_keys\u001b[0m\u001b[0;34m(\u001b[0m\u001b[0mpath\u001b[0m\u001b[0;34m)\u001b[0m\u001b[0;34m\u001b[0m\u001b[0;34m\u001b[0m\u001b[0m\n\u001b[0m\u001b[1;32m      4\u001b[0m     \u001b[0;31m#ids = get_ids_from_dynamodb()\u001b[0m\u001b[0;34m\u001b[0m\u001b[0;34m\u001b[0m\u001b[0m\n\u001b[1;32m      5\u001b[0m     \u001b[0mcheck_dynamodb_connection\u001b[0m\u001b[0;34m(\u001b[0m\u001b[0mkey\u001b[0m\u001b[0;34m)\u001b[0m\u001b[0;34m\u001b[0m\u001b[0;34m\u001b[0m\u001b[0m\n",
      "\u001b[0;31mNameError\u001b[0m: name 'access_keys' is not defined"
     ]
    }
   ],
   "source": [
    "if __name__ == \"__main__\":\n",
    "    main()"
   ]
  },
  {
   "cell_type": "code",
   "execution_count": null,
   "metadata": {},
   "outputs": [],
   "source": []
  },
  {
   "cell_type": "code",
   "execution_count": null,
   "metadata": {},
   "outputs": [],
   "source": []
  },
  {
   "cell_type": "code",
   "execution_count": null,
   "metadata": {},
   "outputs": [],
   "source": []
  },
  {
   "cell_type": "code",
   "execution_count": 27,
   "metadata": {},
   "outputs": [],
   "source": [
    "import re, datetime, pytz, subprocess, os, json\n",
    "from botocore.exceptions import ClientError\n",
    "from time import gmtime, strftime\n",
    "import boto3\n",
    "\n",
    "\n",
    "\n",
    "# DynamoDB 설정\n",
    "dynamodb = boto3.resource('dynamodb', region_name='ap-northeast-2')\n",
    "\n",
    "# 테이블 이름 설정\n",
    "table_name = 'merged-data-table'\n",
    "table = dynamodb.Table(table_name)\n",
    "\n",
    "def get_item_from_dynamodb(key):\n",
    "    try:\n",
    "        response = table.get_item(Key=key)\n",
    "        if 'Item' in response:\n",
    "            return response['Item']\n",
    "        else:\n",
    "            print(\"Item not found\")\n",
    "            return None\n",
    "    except Exception as e:\n",
    "        print(f\"Error getting item: {e}\")\n",
    "        return None\n",
    "\n",
    "\n",
    "def main():\n",
    "    # 예시 키 값\n",
    "    key = {'id': 'example_id'}\n",
    "    \n",
    "    # DynamoDB에서 아이템 가져오기\n",
    "    item = get_item_from_dynamodb(key)\n",
    "    if item:\n",
    "        print(\"Item found:\", item)\n",
    "    else:\n",
    "        print(\"Item not found\")\n",
    "\n",
    "\n",
    "\n",
    "\n",
    "\n",
    "\n",
    "# # s3 client를 통해 해당 path의 file 목록 가져오기\n",
    "# def get_bucket_metadata(s3_client, pull_bucket_name, target_folder_prefix):\n",
    "#     # 특정 폴더 내 파일 목록 가져오기\n",
    "#     response = s3_client.list_objects_v2(Bucket=pull_bucket_name, Prefix=target_folder_prefix, Delimiter='/')\n",
    "\n",
    "#     if 'Contents' in response:\n",
    "#         return [obj for obj in response['Contents']]\n",
    "#     else:\n",
    "#         #print(\"No objects found in the folder.\")\n",
    "#         return None\n",
    "\n",
    "# # 로컬 시간대(UTC+9)로 현재 날짜 설정\n",
    "# def get_curr_kst_time():\n",
    "#     return datetime.datetime.now(pytz.timezone('Asia/Seoul')).date()\n",
    "\n",
    "# # kst timezone 설정\n",
    "# def set_kst_timezone():\n",
    "#     return pytz.timezone('Asia/Seoul')\n",
    "\n",
    "# # 파싱을 위해 unuseal line terminators 제거\n",
    "# def remove_unusual_line_terminators(text):\n",
    "#     return re.sub(r'[\\r\\u2028\\u2029]+', ' ', text)\n",
    "\n",
    "# # 정규 표현식을 사용하여 한글, 영어 알파벳, 숫자, 공백을 제외한 모든 문자를 공백으로 치환\n",
    "# def replace_special_to_space(text, pattern=r'[^a-zA-Z0-9가-힣\\s]'):\n",
    "#     return re.sub(pattern, ' ', text)\n",
    "\n",
    "# def remove_multiful_space(text):\n",
    "#     return (' '.join(text.split())).strip()\n",
    "\n",
    "# def change_slash_format(text):\n",
    "#     return text.replace(\" /\", \",\").replace(\"/\", \",\")\n",
    "\n",
    "# def change_str_to_timestamp(text):\n",
    "#     if text:\n",
    "#         return str(int(datetime.datetime.strptime(text, \"%Y-%m-%d\").timestamp()))\n",
    "#     else:\n",
    "#         return None\n",
    "\n",
    "# # unique id를 보관하는 S3 버킷의 obj_ids.json 업데이트\n",
    "# def update_ids_to_s3(s3_client, buket_name, prefix, upload_id_list):\n",
    "#     odd_id_list = get_id_from_s3(s3_client, buket_name, \"obj_ids.json\")\n",
    "#     new_id_list = list(set(odd_id_list + upload_id_list))\n",
    "#     update_date = datetime.datetime.now().strftime(\"%Y-%m-%d %H:%M\")\n",
    "#     data = {\n",
    "#         \"version\": \"2024-09-04\",\n",
    "#         \"statement\": \"id_list_of_precessed_data_objects\",\n",
    "#         \"ids\": new_id_list,\n",
    "#         \"last_update\": update_date\n",
    "#     }\n",
    "#     json_string = json.dumps(data)\n",
    "#     response = s3_client.put_object(\n",
    "#         Bucket=buket_name,          # 버킷 이름\n",
    "#         Key=prefix,             # 업로드할 파일의 키(경로 및 이름)\n",
    "#         Body=json_string,               # 업로드할 파일의 내용\n",
    "#         ContentType='application/json'  # 파일의 MIME 타입\n",
    "#     )\n",
    "#     return response\n",
    "\n",
    "# # unique id를 보관하는 S3 버킷의 obj_ids.json에서 id 목록 호출\n",
    "# def get_id_from_s3(s3_client, buket_name, prefix):\n",
    "#     metadata_list = get_bucket_metadata(s3_client, buket_name, prefix)\n",
    "#     if metadata_list:\n",
    "#         try:\n",
    "#             _obj = metadata_list[0]\n",
    "#             response = s3_client.get_object(Bucket=buket_name, Key=_obj['Key'])\n",
    "#             json_context = response['Body'].read().decode('utf-8')\n",
    "#             join_dict = json.loads(json_context)\n",
    "#             return join_dict.get('ids')\n",
    "#         except json.JSONDecodeError as e:\n",
    "#             #logging.error(f\"JSONDecodeError encountered: {e}\")\n",
    "#             return False\n",
    "#         except ClientError as e:\n",
    "#             #logging.error(f\"ClientError encountered: {e}\")\n",
    "#             return False\n",
    "#         except Exception as e:\n",
    "#             #logging.error(f\"Unknow Error. encountered: {e}\")\n",
    "#             return False\n",
    "\n",
    "# # unique id 목록과 현재 df의 id column을 비교하여 unique id 목록에 없는 id column 값만 list로 반환\n",
    "# def remove_duplicate_id(s3_client, buket_name, _df):\n",
    "#     id_list = get_id_from_s3(s3_client, buket_name, \"obj_ids.json\")\n",
    "#     df_id_list = _df['id'].unique().tolist()\n",
    "#     if id_list:\n",
    "#         unput_id_list = [id for id in df_id_list if id not in id_list]\n",
    "#         return unput_id_list\n",
    "#     else:\n",
    "#         return df_id_list\n",
    "\n",
    "# # redis에서 id가 존재하는지 체크 후 없는 것들에 대해서 record 반환\n",
    "# def check_id_in_redis(logger, redis_sassion, records):\n",
    "#     inited_id_records = []\n",
    "#     for record in records:\n",
    "#         _id = record.get('id')\n",
    "#         _get_date = record.get('get_date')\n",
    "#         if not redis_sassion.hexists('compare_id', _id):  # Redis hash에 해당 id가 없으면\n",
    "#             inited_id_records.append({\"id\": _id, \"get_date\": _get_date})\n",
    "#             logger.info(f\"id {_id} is not exist in redis. Added upload list.\")\n",
    "#         else:\n",
    "#             logger.info(f\"id {_id} already exist in redis. This id passed.\")\n",
    "    \n",
    "#     return inited_id_records\n",
    "\n",
    "# # record에서 없는 id만 redis로 push\n",
    "# def upload_id_into_redis(logger, redis_sassion, records):\n",
    "#     for record in records:\n",
    "#         _id = record.get('id')\n",
    "#         _get_date = record.get('get_date')\n",
    "#         if not redis_sassion.hexists('compare_id', _id):  # Redis hash에 해당 id가 없으면\n",
    "#             redis_sassion.hset('compare_id', _id, _get_date)  # 해당 id를 해시에 저장\n",
    "#             logger.info(f\"id {_id} init into redis.\")\n",
    "#         else:\n",
    "#             logger.info(f\"id {_id} already exist in redis. set id action dismissed\")\n",
    "\n",
    "\n"
   ]
  },
  {
   "cell_type": "code",
   "execution_count": 28,
   "metadata": {},
   "outputs": [
    {
     "name": "stdout",
     "output_type": "stream",
     "text": [
      "Error getting item: Unable to locate credentials\n",
      "Item not found\n"
     ]
    }
   ],
   "source": [
    "\n",
    "if __name__ == \"__main__\":\n",
    "    main()"
   ]
  }
 ],
 "metadata": {
  "kernelspec": {
   "display_name": "Python 3 (ipykernel)",
   "language": "python",
   "name": "python3"
  },
  "language_info": {
   "codemirror_mode": {
    "name": "ipython",
    "version": 3
   },
   "file_extension": ".py",
   "mimetype": "text/x-python",
   "name": "python",
   "nbconvert_exporter": "python",
   "pygments_lexer": "ipython3",
   "version": "3.10.12"
  }
 },
 "nbformat": 4,
 "nbformat_minor": 2
}
