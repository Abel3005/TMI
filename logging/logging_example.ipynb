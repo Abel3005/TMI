{
 "cells": [
  {
   "cell_type": "markdown",
   "metadata": {},
   "source": [
    "# Logging Example"
   ]
  },
  {
   "cell_type": "markdown",
   "metadata": {},
   "source": [
    "### get AWS key and  make session\n"
   ]
  },
  {
   "cell_type": "code",
   "execution_count": 22,
   "metadata": {},
   "outputs": [],
   "source": [
    "import json, boto3\n",
    "\n",
    "with open(\"./.KEYS/WATCHER_ACCESS_KEY.json\", \"r\") as f:\n",
    "    key = json.load(f)\n",
    "with open(\"./.KEYS/DATA_SRC_INFO.json\", \"r\") as f:\n",
    "    bucket_info = json.load(f)\n",
    "session = boto3.Session(\n",
    "    aws_access_key_id=key['aws_access_key_id'],\n",
    "    aws_secret_access_key=key['aws_secret_key'],\n",
    "    region_name=key['region']\n",
    ")\n",
    "# \n",
    "client = session.client('logs')"
   ]
  },
  {
   "cell_type": "markdown",
   "metadata": {},
   "source": [
    "### put log event with boto3 client"
   ]
  },
  {
   "cell_type": "code",
   "execution_count": 39,
   "metadata": {},
   "outputs": [],
   "source": [
    "from datetime import datetime, timedelta\n",
    "import time\n",
    "query = \"fields @timestamp, @message | parse @message \\\"username: * ClinicID: * nodename: *\\\" as username, ClinicID, nodename | filter ClinicID = 7667 and username='simran+test@example.com'\"\n",
    "\n",
    "# make sure to exist \n",
    "# log group /aws/{cartegory}/{site_name}\n",
    "log_group = '/aws/lambda/crawler-jobkorea'\n",
    "log_stream = 'test'\n",
    "\n",
    "# if log_group or log_stream doesn't exist, create them\n",
    "try:\n",
    "    client.create_log_group(logGroupName=log_group)\n",
    "except client.exceptions.ResourceAlreadyExistsException:\n",
    "    pass\n",
    "\n",
    "try:\n",
    "    client.create_log_stream(logGroupName=log_group, logStreamName=log_stream)\n",
    "except client.exceptions.ResourceAlreadyExistsException:\n",
    "    pass\n",
    "\n",
    "# set your message\n",
    "msg = \"Hello Test\"\n",
    "\n",
    "# push log event \n",
    "response = client.put_log_events(\n",
    "    logGroupName=log_group,\n",
    "    logStreamName=log_stream,\n",
    "    logEvents=[\n",
    "        {\n",
    "            'timestamp': int(round(time.time() * 1000)),\n",
    "            'message': msg\n",
    "        },\n",
    "    ],\n",
    ")\n",
    "    "
   ]
  },
  {
   "cell_type": "markdown",
   "metadata": {},
   "source": [
    "You must check response about requset. \n",
    "- if it has 'rejectedLogEvents', log event doesn't be allowed\n",
    "- make sure that your log event has right timestamp: recomanded method is `int(round(time.time() * 1000))`"
   ]
  },
  {
   "cell_type": "code",
   "execution_count": 40,
   "metadata": {},
   "outputs": [
    {
     "data": {
      "text/plain": [
       "{'nextSequenceToken': '49655348470361518325449427548644439034907206660153933842',\n",
       " 'ResponseMetadata': {'RequestId': 'eca1f845-9e57-4fa6-885b-d1ddd00e963d',\n",
       "  'HTTPStatusCode': 200,\n",
       "  'HTTPHeaders': {'x-amzn-requestid': 'eca1f845-9e57-4fa6-885b-d1ddd00e963d',\n",
       "   'content-type': 'application/x-amz-json-1.1',\n",
       "   'content-length': '80',\n",
       "   'date': 'Fri, 30 Aug 2024 06:05:28 GMT'},\n",
       "  'RetryAttempts': 0}}"
      ]
     },
     "execution_count": 40,
     "metadata": {},
     "output_type": "execute_result"
    }
   ],
   "source": [
    "response "
   ]
  },
  {
   "cell_type": "code",
   "execution_count": null,
   "metadata": {},
   "outputs": [],
   "source": []
  },
  {
   "cell_type": "code",
   "execution_count": null,
   "metadata": {},
   "outputs": [],
   "source": [
    "import logging\n",
    "# import boto3\n",
    "from botocore.exceptions import NoCredentialsError, PartialCredentialsError\n",
    "\n",
    "# CloudWatch Logs 클라이언트 생성\n",
    "# client = boto3.client('logs', region_name='ap-northeast-2')  # 서울 리전\n",
    "import json, boto3\n",
    "\n",
    "with open(\"./.KEYS/WATCHER_ACCESS_KEY.json\", \"r\") as f:\n",
    "    key = json.load(f)\n",
    "with open(\"./.KEYS/DATA_SRC_INFO.json\", \"r\") as f:\n",
    "    bucket_info = json.load(f)\n",
    "session = boto3.Session(\n",
    "    aws_access_key_id=key['aws_access_key_id'],\n",
    "    aws_secret_access_key=key['aws_secret_key'],\n",
    "    region_name=key['region']\n",
    ")\n",
    "# \n",
    "client = session.client('logs')\n",
    "\n",
    "# 로그 그룹과 스트림 이름 설정\n",
    "# log_group_name = 'your-log-group'\n",
    "# log_stream_name = 'your-log-stream'\n",
    "log_group_name = '/aws/lambda/crawler-jobkorea'\n",
    "log_stream_name = 'test'\n",
    "\n",
    "# 로그 그룹과 스트림이 존재하지 않으면 생성\n",
    "try:\n",
    "    client.create_log_group(logGroupName=log_group_name)\n",
    "except client.exceptions.ResourceAlreadyExistsException:\n",
    "    pass\n",
    "\n",
    "try:\n",
    "    client.create_log_stream(logGroupName=log_group_name, logStreamName=log_stream_name)\n",
    "except client.exceptions.ResourceAlreadyExistsException:\n",
    "    pass\n",
    "\n",
    "# 로깅 설정\n",
    "logging.basicConfig(level=logging.INFO)\n",
    "logger = logging.getLogger(__name__)\n",
    "\n",
    "class CloudWatchHandler(logging.Handler):\n",
    "    def emit(self, record):\n",
    "        log_entry = self.format(record)\n",
    "        try:\n",
    "            response = client.put_log_events(\n",
    "                logGroupName=log_group_name,\n",
    "                logStreamName=log_stream_name,\n",
    "                logEvents=[\n",
    "                    {\n",
    "                        'timestamp': int(record.created * 1000),\n",
    "                        'message': log_entry\n",
    "                    },\n",
    "                ],\n",
    "            )\n",
    "        except (NoCredentialsError, PartialCredentialsError) as e:\n",
    "            print(f\"Credentials error: {e}\")\n",
    "        except Exception as e:\n",
    "            print(f\"Error sending log to CloudWatch: {e}\")\n",
    "\n",
    "# CloudWatchHandler 추가\n",
    "cloudwatch_handler = CloudWatchHandler()\n",
    "cloudwatch_handler.setLevel(logging.INFO)\n",
    "logger.addHandler(cloudwatch_handler)\n",
    "\n",
    "# 예제 로그\n",
    "logger.info(\"This is an info message from usernamehey\")\n",
    "logger.error(\"This is an error message from usernamehey\")\n"
   ]
  }
 ],
 "metadata": {
  "kernelspec": {
   "display_name": "team3",
   "language": "python",
   "name": "python3"
  },
  "language_info": {
   "codemirror_mode": {
    "name": "ipython",
    "version": 3
   },
   "file_extension": ".py",
   "mimetype": "text/x-python",
   "name": "python",
   "nbconvert_exporter": "python",
   "pygments_lexer": "ipython3",
   "version": "3.12.4"
  }
 },
 "nbformat": 4,
 "nbformat_minor": 2
}
